{
 "cells": [
  {
   "cell_type": "code",
   "execution_count": 608,
   "id": "c6c3f6f2-28dd-49f5-998c-4ba528ea2fc5",
   "metadata": {
    "tags": []
   },
   "outputs": [],
   "source": [
    "import pandas as pd\n",
    "\n",
    "import numpy as np\n",
    "\n"
   ]
  },
  {
   "cell_type": "code",
   "execution_count": 610,
   "id": "c65300a2-0afc-4070-b9ff-fd64176583b0",
   "metadata": {
    "tags": []
   },
   "outputs": [],
   "source": [
    "df = pd.read_csv('../data/_data.csv')"
   ]
  },
  {
   "cell_type": "code",
   "execution_count": 611,
   "id": "7bca02d4-7388-4809-a26a-8050cd905316",
   "metadata": {
    "tags": []
   },
   "outputs": [
    {
     "data": {
      "text/plain": [
       "(23368, 25)"
      ]
     },
     "execution_count": 611,
     "metadata": {},
     "output_type": "execute_result"
    }
   ],
   "source": [
    "df.head(10)\n",
    "df.shape"
   ]
  },
  {
   "cell_type": "code",
   "execution_count": 612,
   "id": "f59e1b5a-961f-48cb-9cb1-e860a81e1b61",
   "metadata": {
    "tags": []
   },
   "outputs": [],
   "source": [
    "df = df.drop(['Парковка'], axis=1) # Убераем парковку"
   ]
  },
  {
   "cell_type": "code",
   "execution_count": 613,
   "id": "25dab618-638f-4e53-ab47-cac44867d4e1",
   "metadata": {
    "tags": []
   },
   "outputs": [],
   "source": [
    "df = df.drop(['Телефоны'], axis=1) # Убераем телефоны"
   ]
  },
  {
   "cell_type": "code",
   "execution_count": 615,
   "id": "5fe4a549-d033-4ce2-ae42-a63414251db7",
   "metadata": {
    "tags": []
   },
   "outputs": [],
   "source": [
    "df = df.drop(['Площадь комнат, м2'], axis=1) # Убераем площади комнат"
   ]
  },
  {
   "cell_type": "code",
   "execution_count": 617,
   "id": "1e23450b-7e18-49c7-b496-4c599e9c6523",
   "metadata": {
    "tags": []
   },
   "outputs": [],
   "source": [
    "temp1=df['Цена']\n",
    "rent_price_curr = temp1.apply(lambda x:x.split('/')[0].split())\n",
    "rent_price = rent_price_curr.apply(lambda x:x[0])\n",
    "# Цена аренды"
   ]
  },
  {
   "cell_type": "code",
   "execution_count": 620,
   "id": "43a9c18f-bccc-4cf1-8d40-db696b5e96ec",
   "metadata": {
    "tags": []
   },
   "outputs": [],
   "source": [
    "currency = rent_price_curr.apply(lambda x:x[1]) # Валюта аренды"
   ]
  },
  {
   "cell_type": "code",
   "execution_count": 621,
   "id": "0a4bfa00-e691-458b-a857-2fc9b8736dc7",
   "metadata": {
    "tags": []
   },
   "outputs": [],
   "source": [
    "s3=temp1.apply(lambda x:x.split('Срок аренды - '))\n",
    "stay_time=s3.apply(lambda x:x[1].split(',')[0]) # Виды сроков"
   ]
  },
  {
   "cell_type": "code",
   "execution_count": 623,
   "id": "efdcae46-a7ec-42da-9a49-43d859dba250",
   "metadata": {
    "tags": []
   },
   "outputs": [],
   "source": [
    "deposite = temp1.apply(lambda x:x.split('Залог - '))\n",
    "test1 = deposite.apply(lambda x:len(x))\n",
    "bool_series1 = test1==2\n",
    "\n",
    "deposite[bool_series1] = deposite[bool_series1].apply(lambda x:x[1].split(',')[0].split(' '))\n",
    "deposite[~bool_series1] = '00'\n",
    "\n",
    "deposite_value = deposite.apply(lambda x:x[0]) # Все залоги, если нету = то 0 строкой\n",
    "deposite_currency = deposite.apply(lambda x:x[1]) # Все валюты, если нету = то 0 строкой\n"
   ]
  },
  {
   "cell_type": "code",
   "execution_count": 624,
   "id": "54afe99d-57d4-4cb5-8e39-2efffce41463",
   "metadata": {
    "tags": []
   },
   "outputs": [],
   "source": [
    "pre_pay = temp1.apply(lambda x:x.split('Предоплата ')[-1])\n",
    "\n",
    "pre_pay_months = pre_pay.apply(lambda x:x.split(' ')[0]) \n",
    "\n",
    "pre_pay_bool = pre_pay.apply(lambda x:x.split(' ')[-1])\n",
    "pre_pay_bool[(pre_pay_bool=='Длительный')|(pre_pay_bool=='месяцев')]='нету'\n",
    "# Предоплата либо \"мес\", либо нету - заменил на \"нету\".\n",
    "\n",
    "pre_pay_months = pre_pay_months.astype(float)\n",
    "pre_pay_months[pre_pay_months>12]=0\n",
    "# Количество месяцев"
   ]
  },
  {
   "cell_type": "code",
   "execution_count": 626,
   "id": "8b68d63e-af5d-4347-b22d-32873f11217c",
   "metadata": {
    "tags": []
   },
   "outputs": [
    {
     "data": {
      "text/plain": [
       "Ремонт\n",
       "Косметический    8499\n",
       "Евроремонт       8470\n",
       "Дизайнерский     3474\n",
       "NaN              2755\n",
       "Без ремонта       170\n",
       "Name: count, dtype: int64"
      ]
     },
     "execution_count": 626,
     "metadata": {},
     "output_type": "execute_result"
    }
   ],
   "source": [
    "temp2=df['Ремонт']\n",
    "temp2.value_counts(dropna=False)"
   ]
  },
  {
   "cell_type": "code",
   "execution_count": 627,
   "id": "6ad81fc1-5623-4ab1-bbcd-039a8f13bdf1",
   "metadata": {
    "tags": []
   },
   "outputs": [
    {
     "data": {
      "text/plain": [
       "Балкон\n",
       "NaN                       7978\n",
       "Балкон (1)                7428\n",
       "Лоджия (1)                6007\n",
       "Балкон (1), Лоджия (1)     716\n",
       "Лоджия (2)                 568\n",
       "Балкон (2)                 474\n",
       "Балкон (3)                  55\n",
       "Лоджия (3)                  45\n",
       "Балкон (2), Лоджия (2)      25\n",
       "Балкон (1), Лоджия (2)      24\n",
       "Балкон (2), Лоджия (1)      20\n",
       "Балкон (4)                   6\n",
       "Балкон (1), Лоджия (3)       5\n",
       "Лоджия (4)                   5\n",
       "Балкон (3), Лоджия (1)       5\n",
       "Балкон (2), Лоджия (3)       3\n",
       "Балкон (1), Лоджия (4)       2\n",
       "Балкон (3), Лоджия (3)       1\n",
       "Балкон (4), Лоджия (4)       1\n",
       "Name: count, dtype: int64"
      ]
     },
     "execution_count": 627,
     "metadata": {},
     "output_type": "execute_result"
    }
   ],
   "source": [
    "temp4=df['Балкон']\n",
    "temp4.value_counts(dropna=False)"
   ]
  },
  {
   "cell_type": "code",
   "execution_count": 628,
   "id": "6f4983b7-f194-42bb-a22e-a489ec8aa432",
   "metadata": {
    "tags": []
   },
   "outputs": [],
   "source": [
    "df = df.drop(['Цена'], axis=1) # Убераем цену"
   ]
  },
  {
   "cell_type": "code",
   "execution_count": 629,
   "id": "e7ac9e53-1b1e-403b-a6a5-828fb435f4f3",
   "metadata": {
    "tags": []
   },
   "outputs": [],
   "source": [
    "df.insert(9,'rent_price',rent_price)\n",
    "df.insert(10,'rent_currency',currency)\n",
    "df.insert(11,'stay_time',stay_time)\n",
    "df.insert(12,'deposite',deposite_value)\n",
    "df.insert(13,'deposite_currency',deposite_currency)\n",
    "df.insert(14,'is_prepay',pre_pay_bool)\n",
    "df.insert(15,'prepay_months',pre_pay_months)"
   ]
  },
  {
   "cell_type": "code",
   "execution_count": 631,
   "id": "5c8ef983-0ed5-41fd-bdc1-b63a7d7336aa",
   "metadata": {
    "tags": []
   },
   "outputs": [],
   "source": [
    "df = df.drop(['Описание'], axis=1) # Убераем описание"
   ]
  },
  {
   "cell_type": "code",
   "execution_count": 632,
   "id": "7d389c02-e9b6-497e-8930-0b46812473b2",
   "metadata": {
    "tags": []
   },
   "outputs": [
    {
     "data": {
      "text/plain": [
       "(23368, 27)"
      ]
     },
     "execution_count": 632,
     "metadata": {},
     "output_type": "execute_result"
    }
   ],
   "source": [
    "# df готов = Разобрали Цену, убрали Описание,Парковку, Площадь комнат И Телефон\n",
    "df.shape"
   ]
  },
  {
   "cell_type": "code",
   "execution_count": null,
   "id": "747458ff-122c-4acf-b3fd-66322b9c45b4",
   "metadata": {},
   "outputs": [],
   "source": []
  }
 ],
 "metadata": {
  "kernelspec": {
   "display_name": "Python 3 (ipykernel)",
   "language": "python",
   "name": "python3"
  },
  "language_info": {
   "codemirror_mode": {
    "name": "ipython",
    "version": 3
   },
   "file_extension": ".py",
   "mimetype": "text/x-python",
   "name": "python",
   "nbconvert_exporter": "python",
   "pygments_lexer": "ipython3",
   "version": "3.11.5"
  }
 },
 "nbformat": 4,
 "nbformat_minor": 5
}
