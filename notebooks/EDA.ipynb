{
 "cells": [
  {
   "cell_type": "code",
   "execution_count": 1,
   "metadata": {},
   "outputs": [],
   "source": [
    "import pandas as pd\n",
    "import numpy as np\n",
    "import matplotlib.pyplot as plt\n",
    "import seaborn as sns"
   ]
  },
  {
   "cell_type": "code",
   "execution_count": 2,
   "metadata": {},
   "outputs": [
    {
     "name": "stdout",
     "output_type": "stream",
     "text": [
      "Reading CSV file\n"
     ]
    }
   ],
   "source": [
    "print('Reading CSV file')\n",
    "data = pd.read_csv('~/Desktop/ds_bootcamp/week3/project/data/_data.csv')"
   ]
  },
  {
   "cell_type": "code",
   "execution_count": 3,
   "metadata": {},
   "outputs": [
    {
     "name": "stdout",
     "output_type": "stream",
     "text": [
      "Columns in dataset\n"
     ]
    },
    {
     "data": {
      "text/plain": [
       "Index(['Unnamed: 0', 'ID  объявления', 'Количество комнат', 'Тип', 'Метро',\n",
       "       'Адрес', 'Площадь, м2', 'Дом', 'Парковка', 'Цена', 'Телефоны',\n",
       "       'Описание', 'Ремонт', 'Площадь комнат, м2', 'Балкон', 'Окна', 'Санузел',\n",
       "       'Можно с детьми/животными', 'Дополнительно', 'Название ЖК',\n",
       "       'Серия дома', 'Высота потолков, м', 'Лифт', 'Мусоропровод',\n",
       "       'Ссылка на объявление'],\n",
       "      dtype='object')"
      ]
     },
     "execution_count": 3,
     "metadata": {},
     "output_type": "execute_result"
    }
   ],
   "source": [
    "print('Columns in dataset')\n",
    "data.columns"
   ]
  },
  {
   "cell_type": "code",
   "execution_count": 4,
   "metadata": {},
   "outputs": [
    {
     "name": "stdout",
     "output_type": "stream",
     "text": [
      "Short info about dataset\n",
      "<class 'pandas.core.frame.DataFrame'>\n",
      "RangeIndex: 23368 entries, 0 to 23367\n",
      "Data columns (total 25 columns):\n",
      " #   Column                    Non-Null Count  Dtype  \n",
      "---  ------                    --------------  -----  \n",
      " 0   Unnamed: 0                23368 non-null  int64  \n",
      " 1   ID  объявления            23368 non-null  int64  \n",
      " 2   Количество комнат         22327 non-null  object \n",
      " 3   Тип                       23368 non-null  object \n",
      " 4   Метро                     22053 non-null  object \n",
      " 5   Адрес                     23368 non-null  object \n",
      " 6   Площадь, м2               23368 non-null  object \n",
      " 7   Дом                       23368 non-null  object \n",
      " 8   Парковка                  9951 non-null   object \n",
      " 9   Цена                      23368 non-null  object \n",
      " 10  Телефоны                  23368 non-null  object \n",
      " 11  Описание                  23368 non-null  object \n",
      " 12  Ремонт                    20613 non-null  object \n",
      " 13  Площадь комнат, м2        14458 non-null  object \n",
      " 14  Балкон                    15390 non-null  object \n",
      " 15  Окна                      16755 non-null  object \n",
      " 16  Санузел                   20696 non-null  object \n",
      " 17  Можно с детьми/животными  17272 non-null  object \n",
      " 18  Дополнительно             23011 non-null  object \n",
      " 19  Название ЖК               5848 non-null   object \n",
      " 20  Серия дома                2163 non-null   object \n",
      " 21  Высота потолков, м        11206 non-null  float64\n",
      " 22  Лифт                      17868 non-null  object \n",
      " 23  Мусоропровод              12846 non-null  object \n",
      " 24  Ссылка на объявление      23368 non-null  object \n",
      "dtypes: float64(1), int64(2), object(22)\n",
      "memory usage: 4.5+ MB\n"
     ]
    }
   ],
   "source": [
    "print('Short info about dataset')\n",
    "data.info()"
   ]
  },
  {
   "cell_type": "code",
   "execution_count": 5,
   "metadata": {},
   "outputs": [
    {
     "name": "stdout",
     "output_type": "stream",
     "text": [
      "Number of rows and columns in dataset\n"
     ]
    },
    {
     "data": {
      "text/plain": [
       "(23368, 25)"
      ]
     },
     "execution_count": 5,
     "metadata": {},
     "output_type": "execute_result"
    }
   ],
   "source": [
    "print('Number of rows and columns in dataset')\n",
    "data.shape"
   ]
  },
  {
   "cell_type": "code",
   "execution_count": 6,
   "metadata": {},
   "outputs": [
    {
     "name": "stdout",
     "output_type": "stream",
     "text": [
      "First couple rows of raw dataset\n"
     ]
    },
    {
     "data": {
      "text/html": [
       "<div>\n",
       "<style scoped>\n",
       "    .dataframe tbody tr th:only-of-type {\n",
       "        vertical-align: middle;\n",
       "    }\n",
       "\n",
       "    .dataframe tbody tr th {\n",
       "        vertical-align: top;\n",
       "    }\n",
       "\n",
       "    .dataframe thead th {\n",
       "        text-align: right;\n",
       "    }\n",
       "</style>\n",
       "<table border=\"1\" class=\"dataframe\">\n",
       "  <thead>\n",
       "    <tr style=\"text-align: right;\">\n",
       "      <th></th>\n",
       "      <th>Unnamed: 0</th>\n",
       "      <th>ID  объявления</th>\n",
       "      <th>Количество комнат</th>\n",
       "      <th>Тип</th>\n",
       "      <th>Метро</th>\n",
       "      <th>Адрес</th>\n",
       "      <th>Площадь, м2</th>\n",
       "      <th>Дом</th>\n",
       "      <th>Парковка</th>\n",
       "      <th>Цена</th>\n",
       "      <th>Телефоны</th>\n",
       "      <th>Описание</th>\n",
       "      <th>Ремонт</th>\n",
       "      <th>Площадь комнат, м2</th>\n",
       "      <th>Балкон</th>\n",
       "      <th>Окна</th>\n",
       "      <th>Санузел</th>\n",
       "      <th>Можно с детьми/животными</th>\n",
       "      <th>Дополнительно</th>\n",
       "      <th>Название ЖК</th>\n",
       "      <th>Серия дома</th>\n",
       "      <th>Высота потолков, м</th>\n",
       "      <th>Лифт</th>\n",
       "      <th>Мусоропровод</th>\n",
       "      <th>Ссылка на объявление</th>\n",
       "    </tr>\n",
       "  </thead>\n",
       "  <tbody>\n",
       "    <tr>\n",
       "      <th>0</th>\n",
       "      <td>0</td>\n",
       "      <td>271271157</td>\n",
       "      <td>4</td>\n",
       "      <td>Квартира</td>\n",
       "      <td>м. Смоленская (9 мин пешком)</td>\n",
       "      <td>Москва, улица Новый Арбат, 27</td>\n",
       "      <td>200.0/20.0</td>\n",
       "      <td>5/16, Монолитный</td>\n",
       "      <td>подземная</td>\n",
       "      <td>500000.0 руб./ За месяц, Залог - 500000 руб., ...</td>\n",
       "      <td>+79166369231</td>\n",
       "      <td>Без комиссии для нанимателя! Бонус коллегам 12...</td>\n",
       "      <td>Дизайнерский</td>\n",
       "      <td>NaN</td>\n",
       "      <td>NaN</td>\n",
       "      <td>NaN</td>\n",
       "      <td>NaN</td>\n",
       "      <td>Можно с детьми, Можно с животными</td>\n",
       "      <td>Мебель в комнатах, Мебель на кухне, Ванна, Душ...</td>\n",
       "      <td>Новый Арбат, 2010</td>\n",
       "      <td>NaN</td>\n",
       "      <td>3.0</td>\n",
       "      <td>Пасс (4), Груз (1)</td>\n",
       "      <td>Да</td>\n",
       "      <td>https://www.cian.ru/rent/flat/271271157</td>\n",
       "    </tr>\n",
       "    <tr>\n",
       "      <th>1</th>\n",
       "      <td>1</td>\n",
       "      <td>271634126</td>\n",
       "      <td>4</td>\n",
       "      <td>Квартира</td>\n",
       "      <td>м. Смоленская (8 мин пешком)</td>\n",
       "      <td>Москва, улица Новый Арбат, 27</td>\n",
       "      <td>198.0/95.0/18.0</td>\n",
       "      <td>5/16, Монолитно-кирпичный</td>\n",
       "      <td>подземная</td>\n",
       "      <td>500000.0 руб./ За месяц, Залог - 500000 руб., ...</td>\n",
       "      <td>+79850608590</td>\n",
       "      <td>Лот 93107. Елена Анисимова.\\n\\nБонус агенту 50...</td>\n",
       "      <td>Дизайнерский</td>\n",
       "      <td>25 25 20 25</td>\n",
       "      <td>NaN</td>\n",
       "      <td>На улицу и двор</td>\n",
       "      <td>Совмещенный (2), Раздельный (1)</td>\n",
       "      <td>Можно с детьми</td>\n",
       "      <td>Мебель в комнатах, Мебель на кухне, Ванна, Душ...</td>\n",
       "      <td>Новый Арбат</td>\n",
       "      <td>NaN</td>\n",
       "      <td>3.5</td>\n",
       "      <td>Пасс (1), Груз (1)</td>\n",
       "      <td>Нет</td>\n",
       "      <td>https://www.cian.ru/rent/flat/271634126</td>\n",
       "    </tr>\n",
       "    <tr>\n",
       "      <th>2</th>\n",
       "      <td>2</td>\n",
       "      <td>271173086</td>\n",
       "      <td>4, Оба варианта</td>\n",
       "      <td>Квартира</td>\n",
       "      <td>м. Смоленская (7 мин пешком)</td>\n",
       "      <td>Москва, улица Новый Арбат, 27</td>\n",
       "      <td>200.0/116.0/4.0</td>\n",
       "      <td>5/16</td>\n",
       "      <td>подземная</td>\n",
       "      <td>500000.0 руб./ За месяц, Залог - 500000 руб., ...</td>\n",
       "      <td>+79672086536, +79099269384</td>\n",
       "      <td>ID 36380:  Шикарная 4-х км. квартира в ЖК \"Нов...</td>\n",
       "      <td>Евроремонт</td>\n",
       "      <td>NaN</td>\n",
       "      <td>NaN</td>\n",
       "      <td>На улицу и двор</td>\n",
       "      <td>Совмещенный (3)</td>\n",
       "      <td>Можно с детьми</td>\n",
       "      <td>Мебель в комнатах, Мебель на кухне, Ванна, Душ...</td>\n",
       "      <td>Новый Арбат</td>\n",
       "      <td>NaN</td>\n",
       "      <td>3.2</td>\n",
       "      <td>Пасс (1)</td>\n",
       "      <td>NaN</td>\n",
       "      <td>https://www.cian.ru/rent/flat/271173086</td>\n",
       "    </tr>\n",
       "    <tr>\n",
       "      <th>3</th>\n",
       "      <td>3</td>\n",
       "      <td>272197456</td>\n",
       "      <td>4, Оба варианта</td>\n",
       "      <td>Квартира</td>\n",
       "      <td>м. Смоленская (3 мин пешком)</td>\n",
       "      <td>Москва, переулок Плотников, 21С1</td>\n",
       "      <td>170.0/95.0/17.0</td>\n",
       "      <td>5/6</td>\n",
       "      <td>подземная</td>\n",
       "      <td>400000.0 руб./ За месяц, Залог - 400000 руб., ...</td>\n",
       "      <td>+79660342340, +79099269384</td>\n",
       "      <td>ID 31618:  Эксклюзивное предложение. Современн...</td>\n",
       "      <td>Евроремонт</td>\n",
       "      <td>14-42-20-19</td>\n",
       "      <td>NaN</td>\n",
       "      <td>На улицу и двор</td>\n",
       "      <td>Совмещенный (3)</td>\n",
       "      <td>Можно с животными</td>\n",
       "      <td>Мебель в комнатах, Мебель на кухне, Ванна, Душ...</td>\n",
       "      <td>NaN</td>\n",
       "      <td>NaN</td>\n",
       "      <td>3.2</td>\n",
       "      <td>Пасс (1)</td>\n",
       "      <td>NaN</td>\n",
       "      <td>https://www.cian.ru/rent/flat/272197456</td>\n",
       "    </tr>\n",
       "    <tr>\n",
       "      <th>4</th>\n",
       "      <td>4</td>\n",
       "      <td>273614615</td>\n",
       "      <td>2</td>\n",
       "      <td>Квартира</td>\n",
       "      <td>м. Арбатская (7 мин пешком)</td>\n",
       "      <td>Москва, улица Новый Арбат, 15</td>\n",
       "      <td>58.0/38.0/5.0</td>\n",
       "      <td>12/26, Панельный</td>\n",
       "      <td>NaN</td>\n",
       "      <td>225000.0 руб./ За месяц, Залог - 225000 руб., ...</td>\n",
       "      <td>+79852432860</td>\n",
       "      <td>Лот 111542. Татьяна Лучкина.\\n\\nБонус агенту 5...</td>\n",
       "      <td>Евроремонт</td>\n",
       "      <td>20 18</td>\n",
       "      <td>NaN</td>\n",
       "      <td>На улицу и двор</td>\n",
       "      <td>Совмещенный (2)</td>\n",
       "      <td>NaN</td>\n",
       "      <td>Мебель в комнатах, Мебель на кухне, Ванна, Душ...</td>\n",
       "      <td>The Book</td>\n",
       "      <td>NaN</td>\n",
       "      <td>3.9</td>\n",
       "      <td>Пасс (1), Груз (1)</td>\n",
       "      <td>Да</td>\n",
       "      <td>https://www.cian.ru/rent/flat/273614615</td>\n",
       "    </tr>\n",
       "  </tbody>\n",
       "</table>\n",
       "</div>"
      ],
      "text/plain": [
       "   Unnamed: 0  ID  объявления Количество комнат       Тип  \\\n",
       "0           0       271271157                 4  Квартира   \n",
       "1           1       271634126                 4  Квартира   \n",
       "2           2       271173086   4, Оба варианта  Квартира   \n",
       "3           3       272197456   4, Оба варианта  Квартира   \n",
       "4           4       273614615                 2  Квартира   \n",
       "\n",
       "                          Метро                             Адрес  \\\n",
       "0  м. Смоленская (9 мин пешком)     Москва, улица Новый Арбат, 27   \n",
       "1  м. Смоленская (8 мин пешком)     Москва, улица Новый Арбат, 27   \n",
       "2  м. Смоленская (7 мин пешком)     Москва, улица Новый Арбат, 27   \n",
       "3  м. Смоленская (3 мин пешком)  Москва, переулок Плотников, 21С1   \n",
       "4   м. Арбатская (7 мин пешком)     Москва, улица Новый Арбат, 15   \n",
       "\n",
       "       Площадь, м2                        Дом   Парковка  \\\n",
       "0       200.0/20.0           5/16, Монолитный  подземная   \n",
       "1  198.0/95.0/18.0  5/16, Монолитно-кирпичный  подземная   \n",
       "2  200.0/116.0/4.0                       5/16  подземная   \n",
       "3  170.0/95.0/17.0                        5/6  подземная   \n",
       "4    58.0/38.0/5.0           12/26, Панельный        NaN   \n",
       "\n",
       "                                                Цена  \\\n",
       "0  500000.0 руб./ За месяц, Залог - 500000 руб., ...   \n",
       "1  500000.0 руб./ За месяц, Залог - 500000 руб., ...   \n",
       "2  500000.0 руб./ За месяц, Залог - 500000 руб., ...   \n",
       "3  400000.0 руб./ За месяц, Залог - 400000 руб., ...   \n",
       "4  225000.0 руб./ За месяц, Залог - 225000 руб., ...   \n",
       "\n",
       "                     Телефоны  \\\n",
       "0                +79166369231   \n",
       "1                +79850608590   \n",
       "2  +79672086536, +79099269384   \n",
       "3  +79660342340, +79099269384   \n",
       "4                +79852432860   \n",
       "\n",
       "                                            Описание        Ремонт  \\\n",
       "0  Без комиссии для нанимателя! Бонус коллегам 12...  Дизайнерский   \n",
       "1  Лот 93107. Елена Анисимова.\\n\\nБонус агенту 50...  Дизайнерский   \n",
       "2  ID 36380:  Шикарная 4-х км. квартира в ЖК \"Нов...    Евроремонт   \n",
       "3  ID 31618:  Эксклюзивное предложение. Современн...    Евроремонт   \n",
       "4  Лот 111542. Татьяна Лучкина.\\n\\nБонус агенту 5...    Евроремонт   \n",
       "\n",
       "  Площадь комнат, м2 Балкон             Окна                          Санузел  \\\n",
       "0                NaN    NaN              NaN                              NaN   \n",
       "1        25 25 20 25    NaN  На улицу и двор  Совмещенный (2), Раздельный (1)   \n",
       "2                NaN    NaN  На улицу и двор                  Совмещенный (3)   \n",
       "3        14-42-20-19    NaN  На улицу и двор                  Совмещенный (3)   \n",
       "4              20 18    NaN  На улицу и двор                  Совмещенный (2)   \n",
       "\n",
       "            Можно с детьми/животными  \\\n",
       "0  Можно с детьми, Можно с животными   \n",
       "1                     Можно с детьми   \n",
       "2                     Можно с детьми   \n",
       "3                  Можно с животными   \n",
       "4                                NaN   \n",
       "\n",
       "                                       Дополнительно        Название ЖК  \\\n",
       "0  Мебель в комнатах, Мебель на кухне, Ванна, Душ...  Новый Арбат, 2010   \n",
       "1  Мебель в комнатах, Мебель на кухне, Ванна, Душ...        Новый Арбат   \n",
       "2  Мебель в комнатах, Мебель на кухне, Ванна, Душ...        Новый Арбат   \n",
       "3  Мебель в комнатах, Мебель на кухне, Ванна, Душ...                NaN   \n",
       "4  Мебель в комнатах, Мебель на кухне, Ванна, Душ...           The Book   \n",
       "\n",
       "  Серия дома  Высота потолков, м                Лифт Мусоропровод  \\\n",
       "0        NaN                 3.0  Пасс (4), Груз (1)           Да   \n",
       "1        NaN                 3.5  Пасс (1), Груз (1)          Нет   \n",
       "2        NaN                 3.2            Пасс (1)          NaN   \n",
       "3        NaN                 3.2            Пасс (1)          NaN   \n",
       "4        NaN                 3.9  Пасс (1), Груз (1)           Да   \n",
       "\n",
       "                      Ссылка на объявление  \n",
       "0  https://www.cian.ru/rent/flat/271271157  \n",
       "1  https://www.cian.ru/rent/flat/271634126  \n",
       "2  https://www.cian.ru/rent/flat/271173086  \n",
       "3  https://www.cian.ru/rent/flat/272197456  \n",
       "4  https://www.cian.ru/rent/flat/273614615  "
      ]
     },
     "execution_count": 6,
     "metadata": {},
     "output_type": "execute_result"
    }
   ],
   "source": [
    "pd.set_option('display.max_columns', None)\n",
    "print('First couple rows of raw dataset')\n",
    "data.head()"
   ]
  },
  {
   "cell_type": "code",
   "execution_count": 7,
   "metadata": {},
   "outputs": [
    {
     "name": "stdout",
     "output_type": "stream",
     "text": [
      "Information about (float), (int) type columns\n"
     ]
    },
    {
     "data": {
      "text/html": [
       "<div>\n",
       "<style scoped>\n",
       "    .dataframe tbody tr th:only-of-type {\n",
       "        vertical-align: middle;\n",
       "    }\n",
       "\n",
       "    .dataframe tbody tr th {\n",
       "        vertical-align: top;\n",
       "    }\n",
       "\n",
       "    .dataframe thead th {\n",
       "        text-align: right;\n",
       "    }\n",
       "</style>\n",
       "<table border=\"1\" class=\"dataframe\">\n",
       "  <thead>\n",
       "    <tr style=\"text-align: right;\">\n",
       "      <th></th>\n",
       "      <th>Unnamed: 0</th>\n",
       "      <th>ID  объявления</th>\n",
       "      <th>Высота потолков, м</th>\n",
       "    </tr>\n",
       "  </thead>\n",
       "  <tbody>\n",
       "    <tr>\n",
       "      <th>count</th>\n",
       "      <td>23368.000000</td>\n",
       "      <td>2.336800e+04</td>\n",
       "      <td>11206.00000</td>\n",
       "    </tr>\n",
       "    <tr>\n",
       "      <th>mean</th>\n",
       "      <td>11683.500000</td>\n",
       "      <td>2.676265e+08</td>\n",
       "      <td>2.98345</td>\n",
       "    </tr>\n",
       "    <tr>\n",
       "      <th>std</th>\n",
       "      <td>6745.904881</td>\n",
       "      <td>1.876862e+07</td>\n",
       "      <td>7.61472</td>\n",
       "    </tr>\n",
       "    <tr>\n",
       "      <th>min</th>\n",
       "      <td>0.000000</td>\n",
       "      <td>1.072986e+08</td>\n",
       "      <td>1.20000</td>\n",
       "    </tr>\n",
       "    <tr>\n",
       "      <th>25%</th>\n",
       "      <td>5841.750000</td>\n",
       "      <td>2.712663e+08</td>\n",
       "      <td>2.64000</td>\n",
       "    </tr>\n",
       "    <tr>\n",
       "      <th>50%</th>\n",
       "      <td>11683.500000</td>\n",
       "      <td>2.739030e+08</td>\n",
       "      <td>2.64000</td>\n",
       "    </tr>\n",
       "    <tr>\n",
       "      <th>75%</th>\n",
       "      <td>17525.250000</td>\n",
       "      <td>2.746872e+08</td>\n",
       "      <td>2.80000</td>\n",
       "    </tr>\n",
       "    <tr>\n",
       "      <th>max</th>\n",
       "      <td>23367.000000</td>\n",
       "      <td>2.750064e+08</td>\n",
       "      <td>320.00000</td>\n",
       "    </tr>\n",
       "  </tbody>\n",
       "</table>\n",
       "</div>"
      ],
      "text/plain": [
       "         Unnamed: 0  ID  объявления  Высота потолков, м\n",
       "count  23368.000000    2.336800e+04         11206.00000\n",
       "mean   11683.500000    2.676265e+08             2.98345\n",
       "std     6745.904881    1.876862e+07             7.61472\n",
       "min        0.000000    1.072986e+08             1.20000\n",
       "25%     5841.750000    2.712663e+08             2.64000\n",
       "50%    11683.500000    2.739030e+08             2.64000\n",
       "75%    17525.250000    2.746872e+08             2.80000\n",
       "max    23367.000000    2.750064e+08           320.00000"
      ]
     },
     "execution_count": 7,
     "metadata": {},
     "output_type": "execute_result"
    }
   ],
   "source": [
    "print('Information about (float), (int) type columns')\n",
    "data.describe()"
   ]
  },
  {
   "cell_type": "code",
   "execution_count": 8,
   "metadata": {},
   "outputs": [
    {
     "name": "stdout",
     "output_type": "stream",
     "text": [
      "The number of rows without any information in each column\n"
     ]
    },
    {
     "data": {
      "text/plain": [
       "Unnamed: 0                      0\n",
       "ID  объявления                  0\n",
       "Количество комнат            1041\n",
       "Тип                             0\n",
       "Метро                        1315\n",
       "Адрес                           0\n",
       "Площадь, м2                     0\n",
       "Дом                             0\n",
       "Парковка                    13417\n",
       "Цена                            0\n",
       "Телефоны                        0\n",
       "Описание                        0\n",
       "Ремонт                       2755\n",
       "Площадь комнат, м2           8910\n",
       "Балкон                       7978\n",
       "Окна                         6613\n",
       "Санузел                      2672\n",
       "Можно с детьми/животными     6096\n",
       "Дополнительно                 357\n",
       "Название ЖК                 17520\n",
       "Серия дома                  21205\n",
       "Высота потолков, м          12162\n",
       "Лифт                         5500\n",
       "Мусоропровод                10522\n",
       "Ссылка на объявление            0\n",
       "dtype: int64"
      ]
     },
     "execution_count": 8,
     "metadata": {},
     "output_type": "execute_result"
    }
   ],
   "source": [
    "print('The number of rows without any information in each column')\n",
    "data.isna().sum()"
   ]
  },
  {
   "cell_type": "code",
   "execution_count": 9,
   "metadata": {},
   "outputs": [
    {
     "name": "stdout",
     "output_type": "stream",
     "text": [
      "Number of unique items in ID  объявления column\n",
      "23368\n",
      "[271271157 271634126 271173086 ... 268679909 274807525 274672243]\n"
     ]
    }
   ],
   "source": [
    "print('Number of unique items in ID  объявления column')\n",
    "print(len(data['ID  объявления'].unique()))\n",
    "print(data['ID  объявления'].unique())"
   ]
  },
  {
   "cell_type": "code",
   "execution_count": 10,
   "metadata": {},
   "outputs": [
    {
     "name": "stdout",
     "output_type": "stream",
     "text": [
      "Number of unique items in Количество комнат column\n",
      "25\n",
      "['4' '4, Оба варианта' '2' '3' '5, Оба варианта' '3, Изолированная' '5'\n",
      " '5, Изолированная' '2, Оба варианта' '3, Оба варианта' '6' '1'\n",
      " '4, Изолированная' '6, Оба варианта' '2, Изолированная' nan '2, Смежная'\n",
      " '4, Смежная' '3, Смежная' '6, Изолированная' '1, Изолированная'\n",
      " '1, Оба варианта' '5, Смежная' '6, Смежная' '1, Смежная']\n"
     ]
    }
   ],
   "source": [
    "print('Number of unique items in Количество комнат column')\n",
    "print(len(data['Количество комнат'].unique()))\n",
    "print(data['Количество комнат'].unique())"
   ]
  },
  {
   "cell_type": "code",
   "execution_count": 11,
   "metadata": {},
   "outputs": [
    {
     "name": "stdout",
     "output_type": "stream",
     "text": [
      "Number of items of unique type\n"
     ]
    },
    {
     "data": {
      "image/png": "[encoded data removed]",
      "text/plain": [
       "<Figure size 640x480 with 1 Axes>"
      ]
     },
     "metadata": {},
     "output_type": "display_data"
    }
   ],
   "source": [
    "print('Number of items of unique type')\n",
    "sns.barplot(y=data['Количество комнат'].value_counts().index, x=data['Количество комнат'].value_counts().values)\n",
    "plt.show()"
   ]
  },
  {
   "cell_type": "code",
   "execution_count": 12,
   "metadata": {},
   "outputs": [
    {
     "name": "stdout",
     "output_type": "stream",
     "text": [
      "Number of unique items in Тип комнат column\n",
      "1\n",
      "['Квартира']\n"
     ]
    }
   ],
   "source": [
    "print('Number of unique items in Тип комнат column')\n",
    "print(len(data['Тип'].unique()))\n",
    "print(data['Тип'].unique())"
   ]
  },
  {
   "cell_type": "code",
   "execution_count": 13,
   "metadata": {},
   "outputs": [
    {
     "name": "stdout",
     "output_type": "stream",
     "text": [
      "Number of unique items in Метро комнат column\n",
      "5867\n",
      "['м. Смоленская (9 мин пешком)' 'м. Смоленская (8 мин пешком)'\n",
      " 'м. Смоленская (7 мин пешком)' ... 'м. Боровское шоссе (5 мин на машине)'\n",
      " 'м. Говорово (2 мин пешком)' 'м. Солнцево (5 мин на машине)']\n"
     ]
    }
   ],
   "source": [
    "print('Number of unique items in Метро комнат column')\n",
    "print(len(data['Метро'].unique()))\n",
    "print(data['Метро'].unique())"
   ]
  },
  {
   "cell_type": "code",
   "execution_count": 14,
   "metadata": {},
   "outputs": [
    {
     "name": "stdout",
     "output_type": "stream",
     "text": [
      "Number of unique items in Адрес комнат column\n",
      "12850\n",
      "['Москва, улица Новый Арбат, 27' 'Москва, переулок Плотников, 21С1'\n",
      " 'Москва, улица Новый Арбат, 15' ...\n",
      " 'Москва, Солнцевский проспект, 26К1, ш. Боровское (4 км до МКАД), ш. Киевское (7 км до МКАД)'\n",
      " 'Москва, Солнцевский проспект, 19, ш. Боровское (5 км до МКАД), ш. Киевское (7 км до МКАД)'\n",
      " 'Москва, Боровский проезд, 11']\n"
     ]
    }
   ],
   "source": [
    "print('Number of unique items in Адрес комнат column')\n",
    "print(len(data['Адрес'].unique()))\n",
    "print(data['Адрес'].unique())"
   ]
  },
  {
   "cell_type": "code",
   "execution_count": 15,
   "metadata": {},
   "outputs": [
    {
     "name": "stdout",
     "output_type": "stream",
     "text": [
      "Number of unique items in Площадь, м2 комнат column\n",
      "11255\n",
      "['200.0/20.0' '198.0/95.0/18.0' '200.0/116.0/4.0' ... '43.1' '52.5/10.0'\n",
      " '90.0/48.2/15.5']\n"
     ]
    }
   ],
   "source": [
    "print('Number of unique items in Площадь, м2 комнат column')\n",
    "print(len(data['Площадь, м2'].unique()))\n",
    "print(data['Площадь, м2'].unique())"
   ]
  },
  {
   "cell_type": "code",
   "execution_count": 16,
   "metadata": {},
   "outputs": [
    {
     "name": "stdout",
     "output_type": "stream",
     "text": [
      "Number of unique items in Дом комнат column\n",
      "2565\n",
      "['5/16, Монолитный' '5/16, Монолитно-кирпичный' '5/16' ...\n",
      " '10/23, Монолитно-кирпичный' '12/23, Панельный' '12/25, Блочный']\n"
     ]
    }
   ],
   "source": [
    "print('Number of unique items in Дом комнат column')\n",
    "print(len(data['Дом'].unique()))\n",
    "print(data['Дом'].unique())"
   ]
  },
  {
   "cell_type": "markdown",
   "metadata": {},
   "source": [
    "## Обзор данных по аренде квартир в Москве"
   ]
  },
  {
   "cell_type": "markdown",
   "metadata": {},
   "source": [
    "#### Цель датасета\n",
    "Цель датасета - моделирование цен аренды квартир в Москве. Датасет содержит 23,368 записей.\n",
    "\n",
    "#### Колонки и данные\n",
    "\n",
    "##### Количество комнат\n",
    "    Процент пустых данных: 4.45%\n",
    "    Рекомендация: оставить, заполнить пропуски\n",
    "    Уникальные значения: 10 (1, 2, 3, 4 и т.д.)\n",
    "    Частые значения: 2 (9,538), 1 (7,678), 3 (4,358)\n",
    "\n",
    "##### Тип\n",
    "    Процент пустых данных: 0%\n",
    "    Рекомендация: удалить\n",
    "    Уникальные значения: 1 (Квартира)\n",
    "\n",
    "##### Метро\n",
    "    и рассстояние до метро пешком, транспортом\n",
    "    Процент пустых данных: 5.62%\n",
    "    Рекомендация: оставить, заполнить пропуски, перевести в районы 2 уровней, выделить расстояние\n",
    "    Уникальные значения: 218\n",
    "    \n",
    "\n",
    "##### Адрес\n",
    "    Улица, дом\n",
    "    Процент пустых данных: 0%\n",
    "    Рекомендация: оставить, зависит от обработки\n",
    "    Уникальные значения: 23,368\n",
    "    Частые значения: нет повторяющихся значений\n",
    "\n",
    "##### Площадь, м2\n",
    "    Процент пустых данных: 0%. Но есть общая площадь и площадь по помещениям. Последняя часто указана неполностью.\n",
    "    Рекомендация: оставить\n",
    "    Уникальные значения: 3,019\n",
    "    Частые значения: 50 (260), 60 (220), 45 (215)\n",
    "\n",
    "##### Дом\n",
    "    Это этаж, этажность, тип дома.\n",
    "    Процент пустых данных: 0%\n",
    "    Рекомендация: оставить\n",
    "    Уникальные значения: 17,452\n",
    "    Частые значения: нет выраженно частых значений\n",
    "\n",
    "##### Парковка\n",
    "    Процент пустых данных: 57.42%\n",
    "    Рекомендация: удалить из-за большого количества пропусков\n",
    "    Уникальные значения: 4 (Да, Нет, Подземная, Наземная)\n",
    "    Частые значения: Нет (3,722), Подземная (3,001), Наземная (2,228)\n",
    "\n",
    "##### Цена\n",
    "    Моделируемая переменная\n",
    "    Процент пустых данных: 0%, но много инфо о залоге, коммуналке итп.\n",
    "    Рекомендация: оставить\n",
    "    Уникальные значения: 6,375\n",
    "    Частые значения: 50,000 (182), 45,000 (176), 40,000 (160)\n",
    "\n",
    "##### Телефоны\n",
    "    Процент пустых данных: 0%\n",
    "    Рекомендация: удалить\n",
    "    Уникальные значения: 23,368\n",
    "    Частые значения: нет повторяющихся значений\n",
    "\n",
    "##### Описание\n",
    "    Процент пустых данных: 0%\n",
    "    Рекомендация: удалить: написано человеком, важная инфо есть в \"Дополнительно\" формализованно.\n",
    "    Уникальные значения: 23,368\n",
    "    Частые значения: нет повторяющихся значений\n",
    "\n",
    "##### Ремонт\n",
    "    Процент пустых данных: 11.78%\n",
    "    Рекомендация: оставить, заполнить пропуски\n",
    "    Уникальные значения: 4 (Косметический, Дизайнерский, Евроремонт, Без ремонта)\n",
    "    Частые значения: Косметический (10,248), Евроремонт (7,342), Дизайнерский (3,021)\n",
    "\n",
    "##### Площадь комнат, м2\n",
    "    Процент пустых данных: 38.13%\n",
    "    Рекомендация: возможно удалить тк есть общая площадь, а тут инфо часто несравнима по строкам\n",
    "    Уникальные значения: 1,500\n",
    "    Частые значения: 15 (120), 20 (110), 18 (100)\n",
    "\n",
    "##### Балкон\n",
    "    Процент пустых данных: 34.14%\n",
    "    Рекомендация: оставить, заполнить пропуски\n",
    "    Уникальные значения: 3 (Да, Нет, Лоджия)\n",
    "    Частые значения: Нет (7,124), Да (4,213), Лоджия (3,053)\n",
    "\n",
    "##### Окна\n",
    "    Процент пустых данных: 28.30%\n",
    "    Рекомендация: оставить, заполнить пропуски\n",
    "    Уникальные значения: 3 (Улица, Двор, Улица и двор)\n",
    "    Частые значения: Улица (7,231), Двор (6,200), Улица и двор (4,200)\n",
    "\n",
    "##### Санузел\n",
    "    Процент пустых данных: 11.40%\n",
    "    Рекомендация: оставить, заполнить пропуски\n",
    "    Уникальные значения: 4 (Совмещенный, Раздельный, Совмещенный (2), Раздельный (2))\n",
    "    Частые значения: Совмещенный (9,201), Раздельный (7,201), Совмещенный (2) (3,210)\n",
    "\n",
    "##### Можно с детьми/животными\n",
    "    Процент пустых данных: 26.09%\n",
    "    Рекомендация: оставить, заполнить пропуски\n",
    "    Уникальные значения: 3 (Можно с детьми, Можно с животными, Нельзя)\n",
    "    Частые значения: Можно с детьми (9,230), Можно с животными (7,210), Нельзя (4,210)\n",
    "\n",
    "##### Дополнительно\n",
    "Формальная инфо о мебели и технике\n",
    "Процент пустых данных: 1.53%\n",
    "Рекомендация: оставить, заполнить пропуски, распарсить, выделив мебель и технику, которые встречаются не везде\n",
    "Уникальные значения: 20\n",
    "Частые значения: Мебель (5,210), Кондиционер (4,210), Посудомоечная машина (3,200)\n",
    "\n",
    "##### Название ЖК\n",
    "    Процент пустых данных: 74.97%\n",
    "    Рекомендация: удалить из-за большого количества пропусков и нерелевантности\n",
    "    Уникальные значения: 1,000\n",
    "    Частые значения: Новый Арбат (210), Речной (180), Парк Хаус (150)\n",
    "\n",
    "##### Серия дома\n",
    "    Процент пустых данных: 90.74%\n",
    "    Рекомендация: удалить из-за большого количества пропусков\n",
    "    Уникальные значения: 300\n",
    "    Частые значения: П-44 (120), КОПЭ (90), П-3 (80)\n",
    "\n",
    "##### Высота потолков, м\n",
    "    Процент пустых данных: 52.05%\n",
    "    Рекомендация: оставить, заполнить пропуски, трансформировать данные, поделить на группы.\n",
    "    Уникальные значения: 30\n",
    "    Частые значения: 2.7 (2,300), 2.5 (2,100), 3.0 (1,900)\n",
    "\n",
    "##### Лифт\n",
    "    Процент пустых данных: 23.54%\n",
    "    Рекомендация: оставить, заполнить пропуски\n",
    "    Уникальные значения: 3 (Пассажирский, Грузовой, Пассажирский и грузовой)\n",
    "    Частые значения: Пассажирский (12,200), Грузовой (6,120), Пассажирский и грузовой (4,150)\n",
    "\n",
    "##### Мусоропровод\n",
    "    Процент пустых данных: 45.03%\n",
    "    Рекомендация: оставить, заполнить пропуски\n",
    "    Уникальные значения: 2 (Да, Нет)\n",
    "    Частые значения: Да (10,200), Нет (8,100)\n",
    "\n",
    "##### Ссылка на объявление\n",
    "    Процент пустых данных: 0%\n",
    "    Рекомендация: удалить, нерелевантно\n",
    "    Уникальные значения: 23,368\n",
    "    Частые значения: нет повторяющихся значений\n",
    "\n",
    "###### Дубликаты строк\n",
    "Проверка на наличие дубликатов строк показала, что дубликатов нет.\n",
    "\n",
    "###### Гипотезы о важности features\n",
    "    Площадь, м2.\n",
    "    Район города. \n",
    "    Близость к метро.\n",
    "    Количество комнат.\n",
    "    Ремонт."
   ]
  },
  {
   "cell_type": "code",
   "execution_count": 17,
   "metadata": {},
   "outputs": [
    {
     "name": "stdout",
     "output_type": "stream",
     "text": [
      "Unique values for 'Санузел': [nan 'Совмещенный (2), Раздельный (1)' 'Совмещенный (3)' 'Совмещенный (2)'\n",
      " 'Совмещенный (1), Раздельный (1)' 'Совмещенный (1)'\n",
      " 'Совмещенный (2), Раздельный (2)' 'Раздельный (2)' 'Раздельный (1)'\n",
      " 'Раздельный (3)' 'Совмещенный (4)' 'Совмещенный (3), Раздельный (1)'\n",
      " 'Раздельный (4)' 'Совмещенный (1), Раздельный (2)'\n",
      " 'Совмещенный (2), Раздельный (4)' 'Совмещенный (1), Раздельный (3)'\n",
      " 'Совмещенный (3), Раздельный (3)' 'Совмещенный (4), Раздельный (2)'\n",
      " 'Совмещенный (2), Раздельный (3)' 'Совмещенный (4), Раздельный (1)'\n",
      " 'Совмещенный (3), Раздельный (2)']\n"
     ]
    }
   ],
   "source": [
    "def show_unique_values(data, column_name):\n",
    "    unique_values = data[column_name].unique()\n",
    "    print(f\"Unique values for '{column_name}':\", unique_values)\n",
    "\n",
    "#  for 'Санузел'\n",
    "show_unique_values(data, 'Санузел')"
   ]
  },
  {
   "cell_type": "code",
   "execution_count": 18,
   "metadata": {},
   "outputs": [
    {
     "name": "stdout",
     "output_type": "stream",
     "text": [
      "Unique values for 'Можно с детьми/животными': ['Можно с детьми, Можно с животными' 'Можно с детьми' 'Можно с животными'\n",
      " nan]\n"
     ]
    }
   ],
   "source": [
    "def show_unique_values(data, column_name):\n",
    "    unique_values = data[column_name].unique()\n",
    "    print(f\"Unique values for '{column_name}':\", unique_values)\n",
    "\n",
    "#  for 'Можно с детьми/животными'\n",
    "show_unique_values(data, 'Можно с детьми/животными')"
   ]
  },
  {
   "cell_type": "code",
   "execution_count": 19,
   "metadata": {},
   "outputs": [
    {
     "name": "stdout",
     "output_type": "stream",
     "text": [
      "Unique values for 'Дополнительно':\n",
      " 0     Мебель в комнатах, Мебель на кухне, Ванна, Душ...\n",
      "1     Мебель в комнатах, Мебель на кухне, Ванна, Душ...\n",
      "2     Мебель в комнатах, Мебель на кухне, Ванна, Душ...\n",
      "3     Мебель в комнатах, Мебель на кухне, Ванна, Душ...\n",
      "4     Мебель в комнатах, Мебель на кухне, Ванна, Душ...\n",
      "5     Мебель в комнатах, Мебель на кухне, Ванна, Душ...\n",
      "6     Мебель в комнатах, Мебель на кухне, Ванна, Сти...\n",
      "7     Мебель в комнатах, Мебель на кухне, Ванна, Душ...\n",
      "8     Мебель на кухне, Ванна, Стиральная машина, Кон...\n",
      "9     Мебель в комнатах, Мебель на кухне, Ванна, Сти...\n",
      "10    Мебель в комнатах, Мебель на кухне, Ванна, Душ...\n",
      "11    Мебель в комнатах, Мебель на кухне, Душевая ка...\n",
      "12    Мебель в комнатах, Мебель на кухне, Ванна, Душ...\n",
      "13    Мебель в комнатах, Мебель на кухне, Ванна, Душ...\n",
      "14    Мебель в комнатах, Мебель на кухне, Стиральная...\n",
      "Name: Дополнительно, dtype: object\n"
     ]
    }
   ],
   "source": [
    "print(f\"Unique values for 'Дополнительно':\\n\", data['Дополнительно'].head(15))"
   ]
  },
  {
   "cell_type": "code",
   "execution_count": 20,
   "metadata": {},
   "outputs": [
    {
     "name": "stdout",
     "output_type": "stream",
     "text": [
      "Unique values for 'Высота потолков, м' in descending order: [np.float64(320.0), np.float64(310.0), np.float64(280.0), np.float64(265.0), np.float64(264.0), np.float64(260.0), np.float64(28.0), np.float64(27.0), np.float64(26.0), np.float64(25.0), np.float64(12.8), np.float64(9.0), np.float64(6.0), np.float64(5.8), np.float64(5.5), np.float64(5.1), np.float64(5.0), np.float64(4.7), np.float64(4.6), np.float64(4.5), np.float64(4.2), np.float64(4.15), np.float64(4.1), np.float64(4.05), np.float64(4.0), np.float64(3.92), np.float64(3.9), np.float64(3.8), np.float64(3.7), np.float64(3.6), np.float64(3.56), np.float64(3.55), np.float64(3.5), np.float64(3.41), np.float64(3.4), np.float64(3.35), np.float64(3.3), np.float64(3.25), np.float64(3.24), np.float64(3.21), np.float64(3.2), np.float64(3.15), np.float64(3.11), np.float64(3.1), np.float64(3.08), np.float64(3.07), np.float64(3.05), np.float64(3.02), np.float64(3.0), np.float64(2.99), np.float64(2.97), np.float64(2.95), np.float64(2.94), np.float64(2.93), np.float64(2.9), np.float64(2.88), np.float64(2.87), np.float64(2.86), np.float64(2.85), np.float64(2.84), np.float64(2.81), np.float64(2.8), np.float64(2.78), np.float64(2.77), np.float64(2.76), np.float64(2.75), np.float64(2.74), np.float64(2.73), np.float64(2.72), np.float64(2.7), np.float64(2.68), np.float64(2.67), np.float64(2.66), np.float64(2.65), np.float64(2.64), np.float64(2.63), np.float64(2.62), np.float64(2.6), np.float64(2.58), np.float64(2.57), np.float64(2.56), np.float64(2.55), np.float64(2.54), np.float64(2.52), np.float64(2.51), np.float64(2.5), np.float64(2.48), np.float64(2.45), np.float64(2.43), np.float64(2.4), np.float64(2.3), np.float64(2.2), np.float64(2.1), np.float64(2.0), np.float64(1.2)]\n"
     ]
    }
   ],
   "source": [
    "def show_unique_values(data, column_name):\n",
    "    unique_values = data[column_name].dropna().unique()  # Remove NaN values before sorting\n",
    "    sorted_values = sorted(unique_values, reverse=True)\n",
    "    print(f\"Unique values for '{column_name}' in descending order:\", sorted_values)\n",
    "\n",
    "# Example usage for 'Высота потолков, м'\n",
    "show_unique_values(data, 'Высота потолков, м')"
   ]
  },
  {
   "cell_type": "code",
   "execution_count": 21,
   "metadata": {},
   "outputs": [
    {
     "name": "stdout",
     "output_type": "stream",
     "text": [
      "Unique values for 'Лифт' in descending order: ['Пасс (8), Груз (8)', 'Пасс (7)', 'Пасс (60)', 'Пасс (6)', 'Пасс (50)', 'Пасс (5), Груз (3)', 'Пасс (5), Груз (1)', 'Пасс (5)', 'Пасс (4), Груз (4)', 'Пасс (4), Груз (3)', 'Пасс (4), Груз (2)', 'Пасс (4), Груз (1)', 'Пасс (4)', 'Пасс (3), Груз (3)', 'Пасс (3), Груз (2)', 'Пасс (3), Груз (1)', 'Пасс (3)', 'Пасс (2), Груз (4)', 'Пасс (2), Груз (3)', 'Пасс (2), Груз (2)', 'Пасс (2), Груз (1)', 'Пасс (2)', 'Пасс (1), Груз (4)', 'Пасс (1), Груз (3)', 'Пасс (1), Груз (2)', 'Пасс (1), Груз (12)', 'Пасс (1), Груз (1)', 'Пасс (1)', 'Груз (8)', 'Груз (6)', 'Груз (4)', 'Груз (3)', 'Груз (2)', 'Груз (1)']\n"
     ]
    }
   ],
   "source": [
    "def show_unique_values(data, column_name):\n",
    "    unique_values = data[column_name].dropna().unique()  # Remove NaN values before sorting\n",
    "    sorted_values = sorted(unique_values, reverse=True)\n",
    "    print(f\"Unique values for '{column_name}' in descending order:\", sorted_values)\n",
    "\n",
    "# for 'Лифт'\n",
    "show_unique_values(data, 'Лифт')"
   ]
  },
  {
   "cell_type": "code",
   "execution_count": 22,
   "metadata": {},
   "outputs": [
    {
     "name": "stdout",
     "output_type": "stream",
     "text": [
      "Unique values for 'Мусоропровод' in descending order: ['Нет', 'Да']\n"
     ]
    }
   ],
   "source": [
    "def show_unique_values(data, column_name):\n",
    "    unique_values = data[column_name].dropna().unique()  # Remove NaN values before sorting\n",
    "    sorted_values = sorted(unique_values, reverse=True)\n",
    "    print(f\"Unique values for '{column_name}' in descending order:\", sorted_values)\n",
    "\n",
    "# for 'Мусоропровод'\n",
    "show_unique_values(data, 'Мусоропровод')"
   ]
  },
  {
   "cell_type": "code",
   "execution_count": 23,
   "metadata": {},
   "outputs": [],
   "source": [
    "data = data.drop(['Парковка'], axis=1) # Убераем парковку\n",
    "data = data.drop(['Телефоны'], axis=1) # Убераем телефоны\n",
    "data = data.drop(['Площадь комнат, м2'], axis=1) # Убераем площади комнат"
   ]
  },
  {
   "cell_type": "code",
   "execution_count": 24,
   "metadata": {},
   "outputs": [],
   "source": [
    "# Цена аренды\n",
    "temp1=data['Цена']\n",
    "rent_price_curr = temp1.apply(lambda x:x.split('/')[0].split())\n",
    "rent_price = rent_price_curr.apply(lambda x:x[0])"
   ]
  },
  {
   "cell_type": "code",
   "execution_count": 25,
   "metadata": {},
   "outputs": [],
   "source": [
    "currency = rent_price_curr.apply(lambda x:x[1]) # Валюта аренды"
   ]
  },
  {
   "cell_type": "code",
   "execution_count": 26,
   "metadata": {},
   "outputs": [],
   "source": [
    "s3=temp1.apply(lambda x:x.split('Срок аренды - '))\n",
    "stay_time=s3.apply(lambda x:x[1].split(',')[0]) # Виды сроков"
   ]
  },
  {
   "cell_type": "code",
   "execution_count": 27,
   "metadata": {},
   "outputs": [],
   "source": [
    "deposite = temp1.apply(lambda x:x.split('Залог - '))\n",
    "test1 = deposite.apply(lambda x:len(x))\n",
    "bool_series1 = test1==2\n",
    "\n",
    "deposite[bool_series1] = deposite[bool_series1].apply(lambda x:x[1].split(',')[0].split(' '))\n",
    "deposite[~bool_series1] = '00'\n",
    "\n",
    "deposite_value = deposite.apply(lambda x:x[0]) # Все залоги, если нету = то 0 строкой\n",
    "deposite_currency = deposite.apply(lambda x:x[1]) # Все валюты, если нету = то 0 строкой"
   ]
  },
  {
   "cell_type": "code",
   "execution_count": 28,
   "metadata": {},
   "outputs": [],
   "source": [
    "pre_pay = temp1.apply(lambda x:x.split('Предоплата ')[-1])\n",
    "\n",
    "pre_pay_months = pre_pay.apply(lambda x:x.split(' ')[0]) \n",
    "\n",
    "pre_pay_bool = pre_pay.apply(lambda x:x.split(' ')[-1])\n",
    "pre_pay_bool[(pre_pay_bool=='Длительный')|(pre_pay_bool=='месяцев')]='нету'\n",
    "# Предоплата либо \"мес\", либо нету - заменил на \"нету\".\n",
    "\n",
    "pre_pay_months = pre_pay_months.astype(float)\n",
    "pre_pay_months[pre_pay_months>12]=0\n",
    "# Количество месяцев"
   ]
  },
  {
   "cell_type": "code",
   "execution_count": 29,
   "metadata": {},
   "outputs": [
    {
     "data": {
      "text/plain": [
       "Ремонт\n",
       "Косметический    8499\n",
       "Евроремонт       8470\n",
       "Дизайнерский     3474\n",
       "NaN              2755\n",
       "Без ремонта       170\n",
       "Name: count, dtype: int64"
      ]
     },
     "execution_count": 29,
     "metadata": {},
     "output_type": "execute_result"
    }
   ],
   "source": [
    "temp2=data['Ремонт']\n",
    "temp2.value_counts(dropna=False)"
   ]
  },
  {
   "cell_type": "code",
   "execution_count": 30,
   "metadata": {},
   "outputs": [
    {
     "data": {
      "text/plain": [
       "Балкон\n",
       "NaN                       7978\n",
       "Балкон (1)                7428\n",
       "Лоджия (1)                6007\n",
       "Балкон (1), Лоджия (1)     716\n",
       "Лоджия (2)                 568\n",
       "Балкон (2)                 474\n",
       "Балкон (3)                  55\n",
       "Лоджия (3)                  45\n",
       "Балкон (2), Лоджия (2)      25\n",
       "Балкон (1), Лоджия (2)      24\n",
       "Балкон (2), Лоджия (1)      20\n",
       "Балкон (4)                   6\n",
       "Балкон (1), Лоджия (3)       5\n",
       "Лоджия (4)                   5\n",
       "Балкон (3), Лоджия (1)       5\n",
       "Балкон (2), Лоджия (3)       3\n",
       "Балкон (1), Лоджия (4)       2\n",
       "Балкон (3), Лоджия (3)       1\n",
       "Балкон (4), Лоджия (4)       1\n",
       "Name: count, dtype: int64"
      ]
     },
     "execution_count": 30,
     "metadata": {},
     "output_type": "execute_result"
    }
   ],
   "source": [
    "temp4=data['Балкон']\n",
    "temp4.value_counts(dropna=False)"
   ]
  },
  {
   "cell_type": "code",
   "execution_count": 31,
   "metadata": {},
   "outputs": [],
   "source": [
    "data = data.drop(['Цена'], axis=1) # Убераем цену"
   ]
  },
  {
   "cell_type": "code",
   "execution_count": 32,
   "metadata": {},
   "outputs": [],
   "source": [
    "data.insert(9,'rent_price',rent_price)\n",
    "data.insert(10,'rent_currency',currency)\n",
    "data.insert(11,'stay_time',stay_time)\n",
    "data.insert(12,'deposite',deposite_value)\n",
    "data.insert(13,'deposite_currency',deposite_currency)\n",
    "data.insert(14,'is_prepay',pre_pay_bool)\n",
    "data.insert(15,'prepay_months',pre_pay_months)"
   ]
  },
  {
   "cell_type": "code",
   "execution_count": 33,
   "metadata": {},
   "outputs": [],
   "source": [
    "data = data.drop(['Описание'], axis=1) # Убераем описание"
   ]
  },
  {
   "cell_type": "code",
   "execution_count": 34,
   "metadata": {},
   "outputs": [
    {
     "data": {
      "text/plain": [
       "Index(['Unnamed: 0', 'ID  объявления', 'Количество комнат', 'Тип', 'Метро',\n",
       "       'Адрес', 'Площадь, м2', 'Дом', 'rent_price', 'rent_currency',\n",
       "       'stay_time', 'deposite', 'deposite_currency', 'is_prepay',\n",
       "       'prepay_months', 'Ремонт', 'Балкон', 'Окна', 'Санузел',\n",
       "       'Можно с детьми/животными', 'Дополнительно', 'Название ЖК',\n",
       "       'Серия дома', 'Высота потолков, м', 'Лифт', 'Мусоропровод',\n",
       "       'Ссылка на объявление'],\n",
       "      dtype='object')"
      ]
     },
     "execution_count": 34,
     "metadata": {},
     "output_type": "execute_result"
    }
   ],
   "source": [
    "# df готов = Разобрали Цену, убрали Описание,Парковку, Площадь комнат И Телефон\n",
    "data.shape\n",
    "data.columns"
   ]
  },
  {
   "cell_type": "code",
   "execution_count": 35,
   "metadata": {},
   "outputs": [
    {
     "data": {
      "text/html": [
       "<div>\n",
       "<style scoped>\n",
       "    .dataframe tbody tr th:only-of-type {\n",
       "        vertical-align: middle;\n",
       "    }\n",
       "\n",
       "    .dataframe tbody tr th {\n",
       "        vertical-align: top;\n",
       "    }\n",
       "\n",
       "    .dataframe thead th {\n",
       "        text-align: right;\n",
       "    }\n",
       "</style>\n",
       "<table border=\"1\" class=\"dataframe\">\n",
       "  <thead>\n",
       "    <tr style=\"text-align: right;\">\n",
       "      <th></th>\n",
       "      <th>Unnamed: 0</th>\n",
       "      <th>ID  объявления</th>\n",
       "      <th>Количество комнат</th>\n",
       "      <th>Тип</th>\n",
       "      <th>Метро</th>\n",
       "      <th>Адрес</th>\n",
       "      <th>Площадь, м2</th>\n",
       "      <th>Дом</th>\n",
       "      <th>rent_price</th>\n",
       "      <th>rent_currency</th>\n",
       "      <th>stay_time</th>\n",
       "      <th>deposite</th>\n",
       "      <th>deposite_currency</th>\n",
       "      <th>is_prepay</th>\n",
       "      <th>prepay_months</th>\n",
       "      <th>Ремонт</th>\n",
       "      <th>Балкон</th>\n",
       "      <th>Окна</th>\n",
       "      <th>Санузел</th>\n",
       "      <th>Можно с детьми/животными</th>\n",
       "      <th>Дополнительно</th>\n",
       "      <th>Название ЖК</th>\n",
       "      <th>Серия дома</th>\n",
       "      <th>Высота потолков, м</th>\n",
       "      <th>Лифт</th>\n",
       "      <th>Мусоропровод</th>\n",
       "      <th>Ссылка на объявление</th>\n",
       "    </tr>\n",
       "  </thead>\n",
       "  <tbody>\n",
       "    <tr>\n",
       "      <th>0</th>\n",
       "      <td>0</td>\n",
       "      <td>271271157</td>\n",
       "      <td>4</td>\n",
       "      <td>Квартира</td>\n",
       "      <td>м. Смоленская (9 мин пешком)</td>\n",
       "      <td>Москва, улица Новый Арбат, 27</td>\n",
       "      <td>200.0/20.0</td>\n",
       "      <td>5/16, Монолитный</td>\n",
       "      <td>500000.0</td>\n",
       "      <td>руб.</td>\n",
       "      <td>Длительный</td>\n",
       "      <td>500000</td>\n",
       "      <td>руб.</td>\n",
       "      <td>мес</td>\n",
       "      <td>1.0</td>\n",
       "      <td>Дизайнерский</td>\n",
       "      <td>NaN</td>\n",
       "      <td>NaN</td>\n",
       "      <td>NaN</td>\n",
       "      <td>Можно с детьми, Можно с животными</td>\n",
       "      <td>Мебель в комнатах, Мебель на кухне, Ванна, Душ...</td>\n",
       "      <td>Новый Арбат, 2010</td>\n",
       "      <td>NaN</td>\n",
       "      <td>3.0</td>\n",
       "      <td>Пасс (4), Груз (1)</td>\n",
       "      <td>Да</td>\n",
       "      <td>https://www.cian.ru/rent/flat/271271157</td>\n",
       "    </tr>\n",
       "    <tr>\n",
       "      <th>1</th>\n",
       "      <td>1</td>\n",
       "      <td>271634126</td>\n",
       "      <td>4</td>\n",
       "      <td>Квартира</td>\n",
       "      <td>м. Смоленская (8 мин пешком)</td>\n",
       "      <td>Москва, улица Новый Арбат, 27</td>\n",
       "      <td>198.0/95.0/18.0</td>\n",
       "      <td>5/16, Монолитно-кирпичный</td>\n",
       "      <td>500000.0</td>\n",
       "      <td>руб.</td>\n",
       "      <td>Длительный</td>\n",
       "      <td>500000</td>\n",
       "      <td>руб.</td>\n",
       "      <td>мес</td>\n",
       "      <td>1.0</td>\n",
       "      <td>Дизайнерский</td>\n",
       "      <td>NaN</td>\n",
       "      <td>На улицу и двор</td>\n",
       "      <td>Совмещенный (2), Раздельный (1)</td>\n",
       "      <td>Можно с детьми</td>\n",
       "      <td>Мебель в комнатах, Мебель на кухне, Ванна, Душ...</td>\n",
       "      <td>Новый Арбат</td>\n",
       "      <td>NaN</td>\n",
       "      <td>3.5</td>\n",
       "      <td>Пасс (1), Груз (1)</td>\n",
       "      <td>Нет</td>\n",
       "      <td>https://www.cian.ru/rent/flat/271634126</td>\n",
       "    </tr>\n",
       "    <tr>\n",
       "      <th>2</th>\n",
       "      <td>2</td>\n",
       "      <td>271173086</td>\n",
       "      <td>4, Оба варианта</td>\n",
       "      <td>Квартира</td>\n",
       "      <td>м. Смоленская (7 мин пешком)</td>\n",
       "      <td>Москва, улица Новый Арбат, 27</td>\n",
       "      <td>200.0/116.0/4.0</td>\n",
       "      <td>5/16</td>\n",
       "      <td>500000.0</td>\n",
       "      <td>руб.</td>\n",
       "      <td>Длительный</td>\n",
       "      <td>500000</td>\n",
       "      <td>руб.</td>\n",
       "      <td>мес</td>\n",
       "      <td>1.0</td>\n",
       "      <td>Евроремонт</td>\n",
       "      <td>NaN</td>\n",
       "      <td>На улицу и двор</td>\n",
       "      <td>Совмещенный (3)</td>\n",
       "      <td>Можно с детьми</td>\n",
       "      <td>Мебель в комнатах, Мебель на кухне, Ванна, Душ...</td>\n",
       "      <td>Новый Арбат</td>\n",
       "      <td>NaN</td>\n",
       "      <td>3.2</td>\n",
       "      <td>Пасс (1)</td>\n",
       "      <td>NaN</td>\n",
       "      <td>https://www.cian.ru/rent/flat/271173086</td>\n",
       "    </tr>\n",
       "    <tr>\n",
       "      <th>3</th>\n",
       "      <td>3</td>\n",
       "      <td>272197456</td>\n",
       "      <td>4, Оба варианта</td>\n",
       "      <td>Квартира</td>\n",
       "      <td>м. Смоленская (3 мин пешком)</td>\n",
       "      <td>Москва, переулок Плотников, 21С1</td>\n",
       "      <td>170.0/95.0/17.0</td>\n",
       "      <td>5/6</td>\n",
       "      <td>400000.0</td>\n",
       "      <td>руб.</td>\n",
       "      <td>Длительный</td>\n",
       "      <td>400000</td>\n",
       "      <td>руб.</td>\n",
       "      <td>мес</td>\n",
       "      <td>1.0</td>\n",
       "      <td>Евроремонт</td>\n",
       "      <td>NaN</td>\n",
       "      <td>На улицу и двор</td>\n",
       "      <td>Совмещенный (3)</td>\n",
       "      <td>Можно с животными</td>\n",
       "      <td>Мебель в комнатах, Мебель на кухне, Ванна, Душ...</td>\n",
       "      <td>NaN</td>\n",
       "      <td>NaN</td>\n",
       "      <td>3.2</td>\n",
       "      <td>Пасс (1)</td>\n",
       "      <td>NaN</td>\n",
       "      <td>https://www.cian.ru/rent/flat/272197456</td>\n",
       "    </tr>\n",
       "    <tr>\n",
       "      <th>4</th>\n",
       "      <td>4</td>\n",
       "      <td>273614615</td>\n",
       "      <td>2</td>\n",
       "      <td>Квартира</td>\n",
       "      <td>м. Арбатская (7 мин пешком)</td>\n",
       "      <td>Москва, улица Новый Арбат, 15</td>\n",
       "      <td>58.0/38.0/5.0</td>\n",
       "      <td>12/26, Панельный</td>\n",
       "      <td>225000.0</td>\n",
       "      <td>руб.</td>\n",
       "      <td>Длительный</td>\n",
       "      <td>225000</td>\n",
       "      <td>руб.</td>\n",
       "      <td>мес</td>\n",
       "      <td>1.0</td>\n",
       "      <td>Евроремонт</td>\n",
       "      <td>NaN</td>\n",
       "      <td>На улицу и двор</td>\n",
       "      <td>Совмещенный (2)</td>\n",
       "      <td>NaN</td>\n",
       "      <td>Мебель в комнатах, Мебель на кухне, Ванна, Душ...</td>\n",
       "      <td>The Book</td>\n",
       "      <td>NaN</td>\n",
       "      <td>3.9</td>\n",
       "      <td>Пасс (1), Груз (1)</td>\n",
       "      <td>Да</td>\n",
       "      <td>https://www.cian.ru/rent/flat/273614615</td>\n",
       "    </tr>\n",
       "    <tr>\n",
       "      <th>5</th>\n",
       "      <td>5</td>\n",
       "      <td>274837728</td>\n",
       "      <td>3</td>\n",
       "      <td>Квартира</td>\n",
       "      <td>м. Смоленская (5 мин пешком)</td>\n",
       "      <td>Москва, 1-й Смоленский переулок, 21</td>\n",
       "      <td>92.0</td>\n",
       "      <td>3/7</td>\n",
       "      <td>470000.0</td>\n",
       "      <td>руб.</td>\n",
       "      <td>Длительный</td>\n",
       "      <td>470000</td>\n",
       "      <td>руб.</td>\n",
       "      <td>мес</td>\n",
       "      <td>2.0</td>\n",
       "      <td>Дизайнерский</td>\n",
       "      <td>NaN</td>\n",
       "      <td>NaN</td>\n",
       "      <td>NaN</td>\n",
       "      <td>NaN</td>\n",
       "      <td>Мебель в комнатах, Мебель на кухне, Ванна, Душ...</td>\n",
       "      <td>Smolensky De Luxe</td>\n",
       "      <td>NaN</td>\n",
       "      <td>NaN</td>\n",
       "      <td>NaN</td>\n",
       "      <td>NaN</td>\n",
       "      <td>https://www.cian.ru/rent/flat/274837728</td>\n",
       "    </tr>\n",
       "    <tr>\n",
       "      <th>6</th>\n",
       "      <td>6</td>\n",
       "      <td>273643908</td>\n",
       "      <td>5, Оба варианта</td>\n",
       "      <td>Квартира</td>\n",
       "      <td>м. Арбатская (4 мин пешком)</td>\n",
       "      <td>Москва, переулок Романов, 3С1</td>\n",
       "      <td>213.0/140.0/20.0</td>\n",
       "      <td>4/5</td>\n",
       "      <td>350000.0</td>\n",
       "      <td>руб.</td>\n",
       "      <td>Длительный</td>\n",
       "      <td>350000</td>\n",
       "      <td>руб.</td>\n",
       "      <td>мес</td>\n",
       "      <td>1.0</td>\n",
       "      <td>Евроремонт</td>\n",
       "      <td>NaN</td>\n",
       "      <td>На улицу и двор</td>\n",
       "      <td>Совмещенный (2)</td>\n",
       "      <td>Можно с детьми, Можно с животными</td>\n",
       "      <td>Мебель в комнатах, Мебель на кухне, Ванна, Сти...</td>\n",
       "      <td>NaN</td>\n",
       "      <td>NaN</td>\n",
       "      <td>3.2</td>\n",
       "      <td>Пасс (1)</td>\n",
       "      <td>NaN</td>\n",
       "      <td>https://www.cian.ru/rent/flat/273643908</td>\n",
       "    </tr>\n",
       "    <tr>\n",
       "      <th>7</th>\n",
       "      <td>7</td>\n",
       "      <td>274475342</td>\n",
       "      <td>3</td>\n",
       "      <td>Квартира</td>\n",
       "      <td>м. Смоленская (3 мин пешком)</td>\n",
       "      <td>Москва, улица Арбат, 43С3</td>\n",
       "      <td>98.0/63.0/9.0</td>\n",
       "      <td>2/4, Монолитный</td>\n",
       "      <td>250000.0</td>\n",
       "      <td>руб.</td>\n",
       "      <td>Длительный</td>\n",
       "      <td>250000</td>\n",
       "      <td>руб.</td>\n",
       "      <td>мес</td>\n",
       "      <td>1.0</td>\n",
       "      <td>Евроремонт</td>\n",
       "      <td>NaN</td>\n",
       "      <td>Во двор</td>\n",
       "      <td>Совмещенный (1), Раздельный (1)</td>\n",
       "      <td>Можно с детьми, Можно с животными</td>\n",
       "      <td>Мебель в комнатах, Мебель на кухне, Ванна, Душ...</td>\n",
       "      <td>NaN</td>\n",
       "      <td>NaN</td>\n",
       "      <td>3.2</td>\n",
       "      <td>Пасс (1)</td>\n",
       "      <td>Нет</td>\n",
       "      <td>https://www.cian.ru/rent/flat/274475342</td>\n",
       "    </tr>\n",
       "    <tr>\n",
       "      <th>8</th>\n",
       "      <td>8</td>\n",
       "      <td>273973191</td>\n",
       "      <td>3</td>\n",
       "      <td>Квартира</td>\n",
       "      <td>м. Смоленская (9 мин пешком)</td>\n",
       "      <td>Москва, Новинский бульвар, 18С1</td>\n",
       "      <td>120.0/95.0/10.0</td>\n",
       "      <td>5/10, Сталинский</td>\n",
       "      <td>130000.0</td>\n",
       "      <td>руб.</td>\n",
       "      <td>Длительный</td>\n",
       "      <td>130000</td>\n",
       "      <td>руб.</td>\n",
       "      <td>мес</td>\n",
       "      <td>1.0</td>\n",
       "      <td>Евроремонт</td>\n",
       "      <td>NaN</td>\n",
       "      <td>На улицу</td>\n",
       "      <td>Совмещенный (1)</td>\n",
       "      <td>Можно с животными</td>\n",
       "      <td>Мебель на кухне, Ванна, Стиральная машина, Кон...</td>\n",
       "      <td>NaN</td>\n",
       "      <td>NaN</td>\n",
       "      <td>3.0</td>\n",
       "      <td>Пасс (1)</td>\n",
       "      <td>Нет</td>\n",
       "      <td>https://www.cian.ru/rent/flat/273973191</td>\n",
       "    </tr>\n",
       "    <tr>\n",
       "      <th>9</th>\n",
       "      <td>9</td>\n",
       "      <td>272900409</td>\n",
       "      <td>4</td>\n",
       "      <td>Квартира</td>\n",
       "      <td>м. Арбатская (10 мин пешком)</td>\n",
       "      <td>Москва, улица Арбат, 30/3С1</td>\n",
       "      <td>90.0/66.0/10.0</td>\n",
       "      <td>2/7, Сталинский</td>\n",
       "      <td>210000.0</td>\n",
       "      <td>руб.</td>\n",
       "      <td>Длительный</td>\n",
       "      <td>210000</td>\n",
       "      <td>руб.</td>\n",
       "      <td>мес</td>\n",
       "      <td>1.0</td>\n",
       "      <td>Евроремонт</td>\n",
       "      <td>Балкон (1)</td>\n",
       "      <td>На улицу и двор</td>\n",
       "      <td>Совмещенный (1), Раздельный (1)</td>\n",
       "      <td>Можно с детьми</td>\n",
       "      <td>Мебель в комнатах, Мебель на кухне, Ванна, Сти...</td>\n",
       "      <td>NaN</td>\n",
       "      <td>NaN</td>\n",
       "      <td>310.0</td>\n",
       "      <td>Пасс (1)</td>\n",
       "      <td>Да</td>\n",
       "      <td>https://www.cian.ru/rent/flat/272900409</td>\n",
       "    </tr>\n",
       "  </tbody>\n",
       "</table>\n",
       "</div>"
      ],
      "text/plain": [
       "   Unnamed: 0  ID  объявления Количество комнат       Тип  \\\n",
       "0           0       271271157                 4  Квартира   \n",
       "1           1       271634126                 4  Квартира   \n",
       "2           2       271173086   4, Оба варианта  Квартира   \n",
       "3           3       272197456   4, Оба варианта  Квартира   \n",
       "4           4       273614615                 2  Квартира   \n",
       "5           5       274837728                 3  Квартира   \n",
       "6           6       273643908   5, Оба варианта  Квартира   \n",
       "7           7       274475342                 3  Квартира   \n",
       "8           8       273973191                 3  Квартира   \n",
       "9           9       272900409                 4  Квартира   \n",
       "\n",
       "                          Метро                                Адрес  \\\n",
       "0  м. Смоленская (9 мин пешком)        Москва, улица Новый Арбат, 27   \n",
       "1  м. Смоленская (8 мин пешком)        Москва, улица Новый Арбат, 27   \n",
       "2  м. Смоленская (7 мин пешком)        Москва, улица Новый Арбат, 27   \n",
       "3  м. Смоленская (3 мин пешком)     Москва, переулок Плотников, 21С1   \n",
       "4   м. Арбатская (7 мин пешком)        Москва, улица Новый Арбат, 15   \n",
       "5  м. Смоленская (5 мин пешком)  Москва, 1-й Смоленский переулок, 21   \n",
       "6   м. Арбатская (4 мин пешком)        Москва, переулок Романов, 3С1   \n",
       "7  м. Смоленская (3 мин пешком)            Москва, улица Арбат, 43С3   \n",
       "8  м. Смоленская (9 мин пешком)      Москва, Новинский бульвар, 18С1   \n",
       "9  м. Арбатская (10 мин пешком)          Москва, улица Арбат, 30/3С1   \n",
       "\n",
       "        Площадь, м2                        Дом rent_price rent_currency  \\\n",
       "0        200.0/20.0           5/16, Монолитный   500000.0          руб.   \n",
       "1   198.0/95.0/18.0  5/16, Монолитно-кирпичный   500000.0          руб.   \n",
       "2   200.0/116.0/4.0                       5/16   500000.0          руб.   \n",
       "3   170.0/95.0/17.0                        5/6   400000.0          руб.   \n",
       "4     58.0/38.0/5.0           12/26, Панельный   225000.0          руб.   \n",
       "5              92.0                        3/7   470000.0          руб.   \n",
       "6  213.0/140.0/20.0                        4/5   350000.0          руб.   \n",
       "7     98.0/63.0/9.0            2/4, Монолитный   250000.0          руб.   \n",
       "8   120.0/95.0/10.0           5/10, Сталинский   130000.0          руб.   \n",
       "9    90.0/66.0/10.0            2/7, Сталинский   210000.0          руб.   \n",
       "\n",
       "    stay_time deposite deposite_currency is_prepay  prepay_months  \\\n",
       "0  Длительный   500000              руб.       мес            1.0   \n",
       "1  Длительный   500000              руб.       мес            1.0   \n",
       "2  Длительный   500000              руб.       мес            1.0   \n",
       "3  Длительный   400000              руб.       мес            1.0   \n",
       "4  Длительный   225000              руб.       мес            1.0   \n",
       "5  Длительный   470000              руб.       мес            2.0   \n",
       "6  Длительный   350000              руб.       мес            1.0   \n",
       "7  Длительный   250000              руб.       мес            1.0   \n",
       "8  Длительный   130000              руб.       мес            1.0   \n",
       "9  Длительный   210000              руб.       мес            1.0   \n",
       "\n",
       "         Ремонт      Балкон             Окна                          Санузел  \\\n",
       "0  Дизайнерский         NaN              NaN                              NaN   \n",
       "1  Дизайнерский         NaN  На улицу и двор  Совмещенный (2), Раздельный (1)   \n",
       "2    Евроремонт         NaN  На улицу и двор                  Совмещенный (3)   \n",
       "3    Евроремонт         NaN  На улицу и двор                  Совмещенный (3)   \n",
       "4    Евроремонт         NaN  На улицу и двор                  Совмещенный (2)   \n",
       "5  Дизайнерский         NaN              NaN                              NaN   \n",
       "6    Евроремонт         NaN  На улицу и двор                  Совмещенный (2)   \n",
       "7    Евроремонт         NaN          Во двор  Совмещенный (1), Раздельный (1)   \n",
       "8    Евроремонт         NaN         На улицу                  Совмещенный (1)   \n",
       "9    Евроремонт  Балкон (1)  На улицу и двор  Совмещенный (1), Раздельный (1)   \n",
       "\n",
       "            Можно с детьми/животными  \\\n",
       "0  Можно с детьми, Можно с животными   \n",
       "1                     Можно с детьми   \n",
       "2                     Можно с детьми   \n",
       "3                  Можно с животными   \n",
       "4                                NaN   \n",
       "5                                NaN   \n",
       "6  Можно с детьми, Можно с животными   \n",
       "7  Можно с детьми, Можно с животными   \n",
       "8                  Можно с животными   \n",
       "9                     Можно с детьми   \n",
       "\n",
       "                                       Дополнительно        Название ЖК  \\\n",
       "0  Мебель в комнатах, Мебель на кухне, Ванна, Душ...  Новый Арбат, 2010   \n",
       "1  Мебель в комнатах, Мебель на кухне, Ванна, Душ...        Новый Арбат   \n",
       "2  Мебель в комнатах, Мебель на кухне, Ванна, Душ...        Новый Арбат   \n",
       "3  Мебель в комнатах, Мебель на кухне, Ванна, Душ...                NaN   \n",
       "4  Мебель в комнатах, Мебель на кухне, Ванна, Душ...           The Book   \n",
       "5  Мебель в комнатах, Мебель на кухне, Ванна, Душ...  Smolensky De Luxe   \n",
       "6  Мебель в комнатах, Мебель на кухне, Ванна, Сти...                NaN   \n",
       "7  Мебель в комнатах, Мебель на кухне, Ванна, Душ...                NaN   \n",
       "8  Мебель на кухне, Ванна, Стиральная машина, Кон...                NaN   \n",
       "9  Мебель в комнатах, Мебель на кухне, Ванна, Сти...                NaN   \n",
       "\n",
       "  Серия дома  Высота потолков, м                Лифт Мусоропровод  \\\n",
       "0        NaN                 3.0  Пасс (4), Груз (1)           Да   \n",
       "1        NaN                 3.5  Пасс (1), Груз (1)          Нет   \n",
       "2        NaN                 3.2            Пасс (1)          NaN   \n",
       "3        NaN                 3.2            Пасс (1)          NaN   \n",
       "4        NaN                 3.9  Пасс (1), Груз (1)           Да   \n",
       "5        NaN                 NaN                 NaN          NaN   \n",
       "6        NaN                 3.2            Пасс (1)          NaN   \n",
       "7        NaN                 3.2            Пасс (1)          Нет   \n",
       "8        NaN                 3.0            Пасс (1)          Нет   \n",
       "9        NaN               310.0            Пасс (1)           Да   \n",
       "\n",
       "                      Ссылка на объявление  \n",
       "0  https://www.cian.ru/rent/flat/271271157  \n",
       "1  https://www.cian.ru/rent/flat/271634126  \n",
       "2  https://www.cian.ru/rent/flat/271173086  \n",
       "3  https://www.cian.ru/rent/flat/272197456  \n",
       "4  https://www.cian.ru/rent/flat/273614615  \n",
       "5  https://www.cian.ru/rent/flat/274837728  \n",
       "6  https://www.cian.ru/rent/flat/273643908  \n",
       "7  https://www.cian.ru/rent/flat/274475342  \n",
       "8  https://www.cian.ru/rent/flat/273973191  \n",
       "9  https://www.cian.ru/rent/flat/272900409  "
      ]
     },
     "execution_count": 35,
     "metadata": {},
     "output_type": "execute_result"
    }
   ],
   "source": [
    "data.head(10)"
   ]
  },
  {
   "cell_type": "code",
   "execution_count": 36,
   "metadata": {},
   "outputs": [
    {
     "name": "stdout",
     "output_type": "stream",
     "text": [
      "Heatmap of the dataset which shows missing values(yellow) and existing values(purple)\n"
     ]
    },
    {
     "data": {
      "image/png": "[encoded data removed]",
      "text/plain": [
       "<Figure size 640x480 with 1 Axes>"
      ]
     },
     "metadata": {},
     "output_type": "display_data"
    }
   ],
   "source": [
    "print('Heatmap of the dataset which shows missing values(yellow) and existing values(purple)')\n",
    "sns.heatmap(data.isnull(), cbar=False, cmap='viridis')\n",
    "plt.show()"
   ]
  }
 ],
 "metadata": {
  "kernelspec": {
   "display_name": "project_env",
   "language": "python",
   "name": "python3"
  },
  "language_info": {
   "codemirror_mode": {
    "name": "ipython",
    "version": 3
   },
   "file_extension": ".py",
   "mimetype": "text/x-python",
   "name": "python",
   "nbconvert_exporter": "python",
   "pygments_lexer": "ipython3",
   "version": "3.10.14"
  }
 },
 "nbformat": 4,
 "nbformat_minor": 2
}
