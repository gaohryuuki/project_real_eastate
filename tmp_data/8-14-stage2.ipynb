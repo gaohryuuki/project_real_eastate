{
 "cells": [
  {
   "cell_type": "code",
   "execution_count": 461,
   "id": "c6c3f6f2-28dd-49f5-998c-4ba528ea2fc5",
   "metadata": {
    "tags": []
   },
   "outputs": [],
   "source": [
    "import pandas as pd\n",
    "\n",
    "import numpy as np\n",
    "\n"
   ]
  },
  {
   "cell_type": "code",
   "execution_count": 462,
   "id": "c65300a2-0afc-4070-b9ff-fd64176583b0",
   "metadata": {
    "tags": []
   },
   "outputs": [],
   "source": [
    "df = pd.read_csv('..df/_data.csv')"
   ]
  },
  {
   "cell_type": "code",
   "execution_count": 463,
   "id": "7bca02d4-7388-4809-a26a-8050cd905316",
   "metadata": {
    "tags": []
   },
   "outputs": [
    {
     "data": {
      "text/plain": [
       "(23368, 25)"
      ]
     },
     "execution_count": 463,
     "metadata": {},
     "output_type": "execute_result"
    }
   ],
   "source": [
    "df.head(10)\n",
    "df.shape"
   ]
  },
  {
   "cell_type": "code",
   "execution_count": 464,
   "id": "f59e1b5a-961f-48cb-9cb1-e860a81e1b61",
   "metadata": {
    "tags": []
   },
   "outputs": [],
   "source": [
    "data = data.drop(['Парковка'], axis=1) # Убераем парковку"
   ]
  },
  {
   "cell_type": "code",
   "execution_count": 465,
   "id": "25dab618-638f-4e53-ab47-cac44867d4e1",
   "metadata": {
    "tags": []
   },
   "outputs": [],
   "source": [
    "data = data.drop(['Телефоны'], axis=1) # Убераем телефоны"
   ]
  },
  {
   "cell_type": "code",
   "execution_count": 466,
   "id": "5fe4a549-d033-4ce2-ae42-a63414251db7",
   "metadata": {
    "tags": []
   },
   "outputs": [],
   "source": [
    "data = data.drop(['Площадь комнат, м2'], axis=1) # Убераем площади комнат"
   ]
  },
  {
   "cell_type": "code",
   "execution_count": 467,
   "id": "1e23450b-7e18-49c7-b496-4c599e9c6523",
   "metadata": {
    "tags": []
   },
   "outputs": [],
   "source": [
    "temp1=data['Цена']\n",
    "rent_price_curr = temp1.apply(lambda x:x.split('/')[0].split())\n",
    "rent_price = rent_price_curr.apply(lambda x:x[0])\n",
    "# Цена аренды"
   ]
  },
  {
   "cell_type": "code",
   "execution_count": 468,
   "id": "43a9c18f-bccc-4cf1-8d40-db696b5e96ec",
   "metadata": {
    "tags": []
   },
   "outputs": [],
   "source": [
    "currency = rent_price_curr.apply(lambda x:x[1]) # Валюта аренды"
   ]
  },
  {
   "cell_type": "code",
   "execution_count": 469,
   "id": "0a4bfa00-e691-458b-a857-2fc9b8736dc7",
   "metadata": {
    "tags": []
   },
   "outputs": [],
   "source": [
    "s3=temp1.apply(lambda x:x.split('Срок аренды - '))\n",
    "stay_time=s3.apply(lambda x:x[1].split(',')[0]) # Виды сроков"
   ]
  },
  {
   "cell_type": "code",
   "execution_count": 470,
   "id": "efdcae46-a7ec-42da-9a49-43d859dba250",
   "metadata": {
    "tags": []
   },
   "outputs": [],
   "source": [
    "deposite = temp1.apply(lambda x:x.split('Залог - '))\n",
    "test1 = deposite.apply(lambda x:len(x))\n",
    "bool_series1 = test1==2\n",
    "\n",
    "deposite[bool_series1] = deposite[bool_series1].apply(lambda x:x[1].split(',')[0].split(' '))\n",
    "deposite[~bool_series1] = '00'\n",
    "\n",
    "deposite_value = deposite.apply(lambda x:x[0]) # Все залоги, если нету = то 0 строкой\n",
    "deposite_currency = deposite.apply(lambda x:x[1]) # Все валюты, если нету = то 0 строкой\n"
   ]
  },
  {
   "cell_type": "code",
   "execution_count": 471,
   "id": "54afe99d-57d4-4cb5-8e39-2efffce41463",
   "metadata": {
    "tags": []
   },
   "outputs": [],
   "source": [
    "pre_pay = temp1.apply(lambda x:x.split('Предоплата ')[-1])\n",
    "\n",
    "pre_pay_months = pre_pay.apply(lambda x:x.split(' ')[0]) \n",
    "\n",
    "pre_pay_bool = pre_pay.apply(lambda x:x.split(' ')[-1])\n",
    "pre_pay_bool[(pre_pay_bool=='Длительный')|(pre_pay_bool=='месяцев')]='нету'\n",
    "# Предоплата либо \"мес\", либо нету - заменил на \"нету\".\n",
    "\n",
    "pre_pay_months = pre_pay_months.astype(float)\n",
    "pre_pay_months[pre_pay_months>12]=0\n",
    "# Количество месяцев"
   ]
  },
  {
   "cell_type": "code",
   "execution_count": 472,
   "id": "8b68d63e-af5d-4347-b22d-32873f11217c",
   "metadata": {
    "tags": []
   },
   "outputs": [
    {
     "data": {
      "text/plain": [
       "Ремонт\n",
       "Косметический    8499\n",
       "Евроремонт       8470\n",
       "Дизайнерский     3474\n",
       "NaN              2755\n",
       "Без ремонта       170\n",
       "Name: count, dtype: int64"
      ]
     },
     "execution_count": 472,
     "metadata": {},
     "output_type": "execute_result"
    }
   ],
   "source": [
    "temp2=data['Ремонт']\n",
    "temp2.value_counts(dropna=False)"
   ]
  },
  {
   "cell_type": "code",
   "execution_count": 473,
   "id": "6ad81fc1-5623-4ab1-bbcd-039a8f13bdf1",
   "metadata": {
    "tags": []
   },
   "outputs": [
    {
     "data": {
      "text/plain": [
       "Балкон\n",
       "NaN                       7978\n",
       "Балкон (1)                7428\n",
       "Лоджия (1)                6007\n",
       "Балкон (1), Лоджия (1)     716\n",
       "Лоджия (2)                 568\n",
       "Балкон (2)                 474\n",
       "Балкон (3)                  55\n",
       "Лоджия (3)                  45\n",
       "Балкон (2), Лоджия (2)      25\n",
       "Балкон (1), Лоджия (2)      24\n",
       "Балкон (2), Лоджия (1)      20\n",
       "Балкон (4)                   6\n",
       "Балкон (1), Лоджия (3)       5\n",
       "Лоджия (4)                   5\n",
       "Балкон (3), Лоджия (1)       5\n",
       "Балкон (2), Лоджия (3)       3\n",
       "Балкон (1), Лоджия (4)       2\n",
       "Балкон (3), Лоджия (3)       1\n",
       "Балкон (4), Лоджия (4)       1\n",
       "Name: count, dtype: int64"
      ]
     },
     "execution_count": 473,
     "metadata": {},
     "output_type": "execute_result"
    }
   ],
   "source": [
    "temp4=data['Балкон']\n",
    "temp4.value_counts(dropna=False)"
   ]
  },
  {
   "cell_type": "code",
   "execution_count": 474,
   "id": "6f4983b7-f194-42bb-a22e-a489ec8aa432",
   "metadata": {
    "tags": []
   },
   "outputs": [],
   "source": [
    "data = data.drop(['Цена'], axis=1) # Убераем цену"
   ]
  },
  {
   "cell_type": "code",
   "execution_count": 475,
   "id": "e7ac9e53-1b1e-403b-a6a5-828fb435f4f3",
   "metadata": {
    "tags": []
   },
   "outputs": [],
   "source": [
    "data.insert(9,'rent_price',rent_price)\n",
    "data.insert(10,'rent_currency',currency)\n",
    "data.insert(11,'stay_time',stay_time)\n",
    "data.insert(12,'deposite',deposite_value)\n",
    "data.insert(13,'deposite_currency',deposite_currency)\n",
    "data.insert(14,'is_prepay',pre_pay_bool)\n",
    "data.insert(15,'prepay_months',pre_pay_months)"
   ]
  },
  {
   "cell_type": "code",
   "execution_count": 476,
   "id": "5c8ef983-0ed5-41fd-bdc1-b63a7d7336aa",
   "metadata": {
    "tags": []
   },
   "outputs": [],
   "source": [
    "data = data.drop(['Описание'], axis=1) # Убераем описание"
   ]
  },
  {
   "cell_type": "code",
   "execution_count": 477,
   "id": "7d389c02-e9b6-497e-8930-0b46812473b2",
   "metadata": {
    "tags": []
   },
   "outputs": [
    {
     "data": {
      "text/plain": [
       "(23368, 27)"
      ]
     },
     "execution_count": 477,
     "metadata": {},
     "output_type": "execute_result"
    }
   ],
   "source": [
    "# data готов = Разобрали Цену, убрали Описание,Парковку, Площадь комнат И Телефон\n",
    "data.shape"
   ]
  },
  {
   "cell_type": "code",
   "execution_count": 478,
   "id": "747458ff-122c-4acf-b3fd-66322b9c45b4",
   "metadata": {},
   "outputs": [
    {
     "data": {
      "text/html": [
       "<div>\n",
       "<style scoped>\n",
       "    .dataframe tbody tr th:only-of-type {\n",
       "        vertical-align: middle;\n",
       "    }\n",
       "\n",
       "    .dataframe tbody tr th {\n",
       "        vertical-align: top;\n",
       "    }\n",
       "\n",
       "    .dataframe thead th {\n",
       "        text-align: right;\n",
       "    }\n",
       "</style>\n",
       "<table border=\"1\" class=\"dataframe\">\n",
       "  <thead>\n",
       "    <tr style=\"text-align: right;\">\n",
       "      <th></th>\n",
       "      <th>rent_price</th>\n",
       "      <th>rent_currency</th>\n",
       "      <th>stay_time</th>\n",
       "      <th>deposite</th>\n",
       "      <th>deposite_currency</th>\n",
       "      <th>is_prepay</th>\n",
       "      <th>prepay_months</th>\n",
       "      <th>Ремонт</th>\n",
       "      <th>Балкон</th>\n",
       "    </tr>\n",
       "  </thead>\n",
       "  <tbody>\n",
       "    <tr>\n",
       "      <th>0</th>\n",
       "      <td>500000.0</td>\n",
       "      <td>руб.</td>\n",
       "      <td>Длительный</td>\n",
       "      <td>500000</td>\n",
       "      <td>руб.</td>\n",
       "      <td>мес</td>\n",
       "      <td>1.0</td>\n",
       "      <td>Дизайнерский</td>\n",
       "      <td>NaN</td>\n",
       "    </tr>\n",
       "    <tr>\n",
       "      <th>1</th>\n",
       "      <td>500000.0</td>\n",
       "      <td>руб.</td>\n",
       "      <td>Длительный</td>\n",
       "      <td>500000</td>\n",
       "      <td>руб.</td>\n",
       "      <td>мес</td>\n",
       "      <td>1.0</td>\n",
       "      <td>Дизайнерский</td>\n",
       "      <td>NaN</td>\n",
       "    </tr>\n",
       "    <tr>\n",
       "      <th>2</th>\n",
       "      <td>500000.0</td>\n",
       "      <td>руб.</td>\n",
       "      <td>Длительный</td>\n",
       "      <td>500000</td>\n",
       "      <td>руб.</td>\n",
       "      <td>мес</td>\n",
       "      <td>1.0</td>\n",
       "      <td>Евроремонт</td>\n",
       "      <td>NaN</td>\n",
       "    </tr>\n",
       "    <tr>\n",
       "      <th>3</th>\n",
       "      <td>400000.0</td>\n",
       "      <td>руб.</td>\n",
       "      <td>Длительный</td>\n",
       "      <td>400000</td>\n",
       "      <td>руб.</td>\n",
       "      <td>мес</td>\n",
       "      <td>1.0</td>\n",
       "      <td>Евроремонт</td>\n",
       "      <td>NaN</td>\n",
       "    </tr>\n",
       "    <tr>\n",
       "      <th>4</th>\n",
       "      <td>225000.0</td>\n",
       "      <td>руб.</td>\n",
       "      <td>Длительный</td>\n",
       "      <td>225000</td>\n",
       "      <td>руб.</td>\n",
       "      <td>мес</td>\n",
       "      <td>1.0</td>\n",
       "      <td>Евроремонт</td>\n",
       "      <td>NaN</td>\n",
       "    </tr>\n",
       "    <tr>\n",
       "      <th>...</th>\n",
       "      <td>...</td>\n",
       "      <td>...</td>\n",
       "      <td>...</td>\n",
       "      <td>...</td>\n",
       "      <td>...</td>\n",
       "      <td>...</td>\n",
       "      <td>...</td>\n",
       "      <td>...</td>\n",
       "      <td>...</td>\n",
       "    </tr>\n",
       "    <tr>\n",
       "      <th>23363</th>\n",
       "      <td>42000.0</td>\n",
       "      <td>руб.</td>\n",
       "      <td>Длительный</td>\n",
       "      <td>42000</td>\n",
       "      <td>руб.</td>\n",
       "      <td>мес</td>\n",
       "      <td>1.0</td>\n",
       "      <td>Евроремонт</td>\n",
       "      <td>Балкон (1)</td>\n",
       "    </tr>\n",
       "    <tr>\n",
       "      <th>23364</th>\n",
       "      <td>45000.0</td>\n",
       "      <td>руб.</td>\n",
       "      <td>Длительный</td>\n",
       "      <td>45000</td>\n",
       "      <td>руб.</td>\n",
       "      <td>мес</td>\n",
       "      <td>1.0</td>\n",
       "      <td>Евроремонт</td>\n",
       "      <td>Лоджия (1)</td>\n",
       "    </tr>\n",
       "    <tr>\n",
       "      <th>23365</th>\n",
       "      <td>50000.0</td>\n",
       "      <td>руб.</td>\n",
       "      <td>Длительный</td>\n",
       "      <td>50000</td>\n",
       "      <td>руб.</td>\n",
       "      <td>мес</td>\n",
       "      <td>1.0</td>\n",
       "      <td>Дизайнерский</td>\n",
       "      <td>Балкон (1)</td>\n",
       "    </tr>\n",
       "    <tr>\n",
       "      <th>23366</th>\n",
       "      <td>55000.0</td>\n",
       "      <td>руб.</td>\n",
       "      <td>Длительный</td>\n",
       "      <td>50000</td>\n",
       "      <td>руб.</td>\n",
       "      <td>мес</td>\n",
       "      <td>2.0</td>\n",
       "      <td>Евроремонт</td>\n",
       "      <td>Лоджия (1)</td>\n",
       "    </tr>\n",
       "    <tr>\n",
       "      <th>23367</th>\n",
       "      <td>57000.0</td>\n",
       "      <td>руб.</td>\n",
       "      <td>Длительный</td>\n",
       "      <td>60000</td>\n",
       "      <td>руб.</td>\n",
       "      <td>мес</td>\n",
       "      <td>1.0</td>\n",
       "      <td>Косметический</td>\n",
       "      <td>Лоджия (1)</td>\n",
       "    </tr>\n",
       "  </tbody>\n",
       "</table>\n",
       "<p>23368 rows × 9 columns</p>\n",
       "</div>"
      ],
      "text/plain": [
       "      rent_price rent_currency   stay_time deposite deposite_currency  \\\n",
       "0       500000.0          руб.  Длительный   500000              руб.   \n",
       "1       500000.0          руб.  Длительный   500000              руб.   \n",
       "2       500000.0          руб.  Длительный   500000              руб.   \n",
       "3       400000.0          руб.  Длительный   400000              руб.   \n",
       "4       225000.0          руб.  Длительный   225000              руб.   \n",
       "...          ...           ...         ...      ...               ...   \n",
       "23363    42000.0          руб.  Длительный    42000              руб.   \n",
       "23364    45000.0          руб.  Длительный    45000              руб.   \n",
       "23365    50000.0          руб.  Длительный    50000              руб.   \n",
       "23366    55000.0          руб.  Длительный    50000              руб.   \n",
       "23367    57000.0          руб.  Длительный    60000              руб.   \n",
       "\n",
       "      is_prepay  prepay_months         Ремонт      Балкон  \n",
       "0           мес            1.0   Дизайнерский         NaN  \n",
       "1           мес            1.0   Дизайнерский         NaN  \n",
       "2           мес            1.0     Евроремонт         NaN  \n",
       "3           мес            1.0     Евроремонт         NaN  \n",
       "4           мес            1.0     Евроремонт         NaN  \n",
       "...         ...            ...            ...         ...  \n",
       "23363       мес            1.0     Евроремонт  Балкон (1)  \n",
       "23364       мес            1.0     Евроремонт  Лоджия (1)  \n",
       "23365       мес            1.0   Дизайнерский  Балкон (1)  \n",
       "23366       мес            2.0     Евроремонт  Лоджия (1)  \n",
       "23367       мес            1.0  Косметический  Лоджия (1)  \n",
       "\n",
       "[23368 rows x 9 columns]"
      ]
     },
     "execution_count": 478,
     "metadata": {},
     "output_type": "execute_result"
    }
   ],
   "source": [
    "data.iloc[:,8:17]"
   ]
  },
  {
   "cell_type": "code",
   "execution_count": 479,
   "id": "0b507ec2-11bb-424e-9c2d-e08213f3f774",
   "metadata": {},
   "outputs": [],
   "source": [
    "# Здесь начинается 2-ая Стадия, ниже этого коммента, работаю с существующим data и все меняю прямо в нём"
   ]
  },
  {
   "cell_type": "code",
   "execution_count": 480,
   "id": "f9a160d8-46ce-4592-be65-321ad937bc72",
   "metadata": {
    "tags": []
   },
   "outputs": [],
   "source": [
    "data['rent_price']=data['rent_price'].astype(float)\n",
    "data['deposite']=data['deposite'].astype(float)\n",
    "# Переводит числовые во float"
   ]
  },
  {
   "cell_type": "code",
   "execution_count": 481,
   "id": "e8513060-d2b1-4fb0-a135-1860437035ea",
   "metadata": {
    "tags": []
   },
   "outputs": [
    {
     "data": {
      "text/plain": [
       "rent_price\n",
       "40000.0     1555\n",
       "45000.0     1498\n",
       "35000.0     1360\n",
       "50000.0     1294\n",
       "55000.0      978\n",
       "            ... \n",
       "19999.0        1\n",
       "62100.0        1\n",
       "84990.0        1\n",
       "104500.0       1\n",
       "64100.0        1\n",
       "Name: count, Length: 599, dtype: int64"
      ]
     },
     "execution_count": 481,
     "metadata": {},
     "output_type": "execute_result"
    }
   ],
   "source": [
    "data['rent_price'].value_counts(dropna=False)"
   ]
  },
  {
   "cell_type": "code",
   "execution_count": 482,
   "id": "a724e761-f055-4f08-8c2f-9156ba42a227",
   "metadata": {
    "tags": []
   },
   "outputs": [
    {
     "data": {
      "text/plain": [
       "deposite\n",
       "40000.0     1484\n",
       "45000.0     1378\n",
       "50000.0     1331\n",
       "35000.0     1240\n",
       "0.0          990\n",
       "            ... \n",
       "150.0          1\n",
       "45600.0        1\n",
       "34990.0        1\n",
       "148000.0       1\n",
       "115990.0       1\n",
       "Name: count, Length: 556, dtype: int64"
      ]
     },
     "execution_count": 482,
     "metadata": {},
     "output_type": "execute_result"
    }
   ],
   "source": [
    "data['deposite'].value_counts(dropna=False) # Если нету депозита, то строка тут 0"
   ]
  },
  {
   "cell_type": "code",
   "execution_count": 483,
   "id": "3a0ffd21-19aa-49dc-b700-cc2a34b2833d",
   "metadata": {
    "tags": []
   },
   "outputs": [
    {
     "data": {
      "text/plain": [
       "deposite_currency\n",
       "руб.    22354\n",
       "0         990\n",
       "$          14\n",
       "€          10\n",
       "Name: count, dtype: int64"
      ]
     },
     "execution_count": 483,
     "metadata": {},
     "output_type": "execute_result"
    }
   ],
   "source": [
    "data['deposite_currency'].value_counts(dropna=False) # Если нету депозита, то строка тут 0"
   ]
  },
  {
   "cell_type": "code",
   "execution_count": 529,
   "id": "99ccb49a-d36c-4c16-831b-4ef7d0ce5666",
   "metadata": {
    "tags": []
   },
   "outputs": [
    {
     "data": {
      "text/plain": [
       "(23368,)"
      ]
     },
     "execution_count": 529,
     "metadata": {},
     "output_type": "execute_result"
    }
   ],
   "source": [
    "data['deposite_currency'].shape"
   ]
  },
  {
   "cell_type": "code",
   "execution_count": 484,
   "id": "fd8789cb-1ff6-4d83-bc94-05424466b99d",
   "metadata": {
    "tags": []
   },
   "outputs": [
    {
     "data": {
      "text/plain": [
       "stay_time\n",
       "Длительный              22305\n",
       "На несколько месяцев     1063\n",
       "Name: count, dtype: int64"
      ]
     },
     "execution_count": 484,
     "metadata": {},
     "output_type": "execute_result"
    }
   ],
   "source": [
    "data['stay_time'].value_counts(dropna=False)"
   ]
  },
  {
   "cell_type": "code",
   "execution_count": 485,
   "id": "d324f598-6f3a-4e3c-ad23-02f6e335e703",
   "metadata": {
    "tags": []
   },
   "outputs": [
    {
     "data": {
      "text/plain": [
       "prepay_months\n",
       "1     22489\n",
       "0       591\n",
       "2       270\n",
       "3        11\n",
       "12        5\n",
       "11        1\n",
       "6         1\n",
       "Name: count, dtype: int64"
      ]
     },
     "execution_count": 485,
     "metadata": {},
     "output_type": "execute_result"
    }
   ],
   "source": [
    "data = data.drop(['is_prepay'], axis=1) # Убераем логический признак\n",
    "data['prepay_months'] = data['prepay_months'].astype(int) # Теперь если 0 - то нету Предоплаты, или количество месяцев предоплаты\n",
    "data['prepay_months'].value_counts() \n"
   ]
  },
  {
   "cell_type": "code",
   "execution_count": 486,
   "id": "af1f7e57-2c7f-4e95-a6fe-917037fb7426",
   "metadata": {
    "tags": []
   },
   "outputs": [],
   "source": [
    "data = data.rename(columns={'Ремонт': 'renovation'}) # Переименовываем колонку"
   ]
  },
  {
   "cell_type": "code",
   "execution_count": 487,
   "id": "bbbe8c90-45bc-4ded-afc3-67d293912d45",
   "metadata": {
    "tags": []
   },
   "outputs": [],
   "source": [
    "data['renovation']=data['renovation'].fillna('Нету') # Пропуски = \"Нету\""
   ]
  },
  {
   "cell_type": "code",
   "execution_count": 488,
   "id": "79428b4d-e8e4-4fa1-9c68-5050df8a5070",
   "metadata": {
    "tags": []
   },
   "outputs": [
    {
     "data": {
      "text/plain": [
       "renovation\n",
       "Косметический    8499\n",
       "Евроремонт       8470\n",
       "Дизайнерский     3474\n",
       "Нету             2755\n",
       "Без ремонта       170\n",
       "Name: count, dtype: int64"
      ]
     },
     "execution_count": 488,
     "metadata": {},
     "output_type": "execute_result"
    }
   ],
   "source": [
    "data['renovation'].value_counts(dropna=False)"
   ]
  },
  {
   "cell_type": "code",
   "execution_count": 489,
   "id": "297c21f6-f8cd-45cf-9a12-ac5c134b96cc",
   "metadata": {
    "tags": []
   },
   "outputs": [],
   "source": [
    "data = data.rename(columns={'Балкон': 'balcony'}) # Переименовываем колонку"
   ]
  },
  {
   "cell_type": "code",
   "execution_count": 490,
   "id": "ce37cf35-c60f-4bf1-a2ab-164245f18fb4",
   "metadata": {
    "tags": []
   },
   "outputs": [
    {
     "data": {
      "text/plain": [
       "dtype('O')"
      ]
     },
     "execution_count": 490,
     "metadata": {},
     "output_type": "execute_result"
    }
   ],
   "source": [
    "data['balcony'].dtype"
   ]
  },
  {
   "cell_type": "code",
   "execution_count": 491,
   "id": "6dae1487-0eb6-434b-a837-861f37de13e3",
   "metadata": {},
   "outputs": [],
   "source": [
    "data['balcony']=data['balcony'].fillna('Балкон (0), Лоджия (0)') # Пропуски = 'Балкон (0), Лоджия (0)'"
   ]
  },
  {
   "cell_type": "code",
   "execution_count": 492,
   "id": "d3ac0964-375d-45b7-818a-f17403578d45",
   "metadata": {
    "tags": []
   },
   "outputs": [
    {
     "data": {
      "text/plain": [
       "balcony\n",
       "Балкон (0), Лоджия (0)    7978\n",
       "Балкон (1)                7428\n",
       "Лоджия (1)                6007\n",
       "Балкон (1), Лоджия (1)     716\n",
       "Лоджия (2)                 568\n",
       "Балкон (2)                 474\n",
       "Балкон (3)                  55\n",
       "Лоджия (3)                  45\n",
       "Балкон (2), Лоджия (2)      25\n",
       "Балкон (1), Лоджия (2)      24\n",
       "Балкон (2), Лоджия (1)      20\n",
       "Балкон (4)                   6\n",
       "Балкон (1), Лоджия (3)       5\n",
       "Лоджия (4)                   5\n",
       "Балкон (3), Лоджия (1)       5\n",
       "Балкон (2), Лоджия (3)       3\n",
       "Балкон (1), Лоджия (4)       2\n",
       "Балкон (3), Лоджия (3)       1\n",
       "Балкон (4), Лоджия (4)       1\n",
       "Name: count, dtype: int64"
      ]
     },
     "execution_count": 492,
     "metadata": {},
     "output_type": "execute_result"
    }
   ],
   "source": [
    "data['balcony'].value_counts()"
   ]
  },
  {
   "cell_type": "code",
   "execution_count": 493,
   "id": "a513f26b-a3b0-46b0-9587-91b3c80626ab",
   "metadata": {
    "tags": []
   },
   "outputs": [
    {
     "data": {
      "text/html": [
       "<div>\n",
       "<style scoped>\n",
       "    .dataframe tbody tr th:only-of-type {\n",
       "        vertical-align: middle;\n",
       "    }\n",
       "\n",
       "    .dataframe tbody tr th {\n",
       "        vertical-align: top;\n",
       "    }\n",
       "\n",
       "    .dataframe thead th {\n",
       "        text-align: right;\n",
       "    }\n",
       "</style>\n",
       "<table border=\"1\" class=\"dataframe\">\n",
       "  <thead>\n",
       "    <tr style=\"text-align: right;\">\n",
       "      <th></th>\n",
       "      <th>rent_price</th>\n",
       "      <th>rent_currency</th>\n",
       "      <th>stay_time</th>\n",
       "      <th>deposite</th>\n",
       "      <th>deposite_currency</th>\n",
       "      <th>prepay_months</th>\n",
       "      <th>renovation</th>\n",
       "      <th>balcony</th>\n",
       "    </tr>\n",
       "  </thead>\n",
       "  <tbody>\n",
       "    <tr>\n",
       "      <th>0</th>\n",
       "      <td>500000.0</td>\n",
       "      <td>руб.</td>\n",
       "      <td>Длительный</td>\n",
       "      <td>500000.0</td>\n",
       "      <td>руб.</td>\n",
       "      <td>1</td>\n",
       "      <td>Дизайнерский</td>\n",
       "      <td>Балкон (0), Лоджия (0)</td>\n",
       "    </tr>\n",
       "    <tr>\n",
       "      <th>1</th>\n",
       "      <td>500000.0</td>\n",
       "      <td>руб.</td>\n",
       "      <td>Длительный</td>\n",
       "      <td>500000.0</td>\n",
       "      <td>руб.</td>\n",
       "      <td>1</td>\n",
       "      <td>Дизайнерский</td>\n",
       "      <td>Балкон (0), Лоджия (0)</td>\n",
       "    </tr>\n",
       "    <tr>\n",
       "      <th>2</th>\n",
       "      <td>500000.0</td>\n",
       "      <td>руб.</td>\n",
       "      <td>Длительный</td>\n",
       "      <td>500000.0</td>\n",
       "      <td>руб.</td>\n",
       "      <td>1</td>\n",
       "      <td>Евроремонт</td>\n",
       "      <td>Балкон (0), Лоджия (0)</td>\n",
       "    </tr>\n",
       "    <tr>\n",
       "      <th>3</th>\n",
       "      <td>400000.0</td>\n",
       "      <td>руб.</td>\n",
       "      <td>Длительный</td>\n",
       "      <td>400000.0</td>\n",
       "      <td>руб.</td>\n",
       "      <td>1</td>\n",
       "      <td>Евроремонт</td>\n",
       "      <td>Балкон (0), Лоджия (0)</td>\n",
       "    </tr>\n",
       "    <tr>\n",
       "      <th>4</th>\n",
       "      <td>225000.0</td>\n",
       "      <td>руб.</td>\n",
       "      <td>Длительный</td>\n",
       "      <td>225000.0</td>\n",
       "      <td>руб.</td>\n",
       "      <td>1</td>\n",
       "      <td>Евроремонт</td>\n",
       "      <td>Балкон (0), Лоджия (0)</td>\n",
       "    </tr>\n",
       "    <tr>\n",
       "      <th>...</th>\n",
       "      <td>...</td>\n",
       "      <td>...</td>\n",
       "      <td>...</td>\n",
       "      <td>...</td>\n",
       "      <td>...</td>\n",
       "      <td>...</td>\n",
       "      <td>...</td>\n",
       "      <td>...</td>\n",
       "    </tr>\n",
       "    <tr>\n",
       "      <th>23363</th>\n",
       "      <td>42000.0</td>\n",
       "      <td>руб.</td>\n",
       "      <td>Длительный</td>\n",
       "      <td>42000.0</td>\n",
       "      <td>руб.</td>\n",
       "      <td>1</td>\n",
       "      <td>Евроремонт</td>\n",
       "      <td>Балкон (1)</td>\n",
       "    </tr>\n",
       "    <tr>\n",
       "      <th>23364</th>\n",
       "      <td>45000.0</td>\n",
       "      <td>руб.</td>\n",
       "      <td>Длительный</td>\n",
       "      <td>45000.0</td>\n",
       "      <td>руб.</td>\n",
       "      <td>1</td>\n",
       "      <td>Евроремонт</td>\n",
       "      <td>Лоджия (1)</td>\n",
       "    </tr>\n",
       "    <tr>\n",
       "      <th>23365</th>\n",
       "      <td>50000.0</td>\n",
       "      <td>руб.</td>\n",
       "      <td>Длительный</td>\n",
       "      <td>50000.0</td>\n",
       "      <td>руб.</td>\n",
       "      <td>1</td>\n",
       "      <td>Дизайнерский</td>\n",
       "      <td>Балкон (1)</td>\n",
       "    </tr>\n",
       "    <tr>\n",
       "      <th>23366</th>\n",
       "      <td>55000.0</td>\n",
       "      <td>руб.</td>\n",
       "      <td>Длительный</td>\n",
       "      <td>50000.0</td>\n",
       "      <td>руб.</td>\n",
       "      <td>2</td>\n",
       "      <td>Евроремонт</td>\n",
       "      <td>Лоджия (1)</td>\n",
       "    </tr>\n",
       "    <tr>\n",
       "      <th>23367</th>\n",
       "      <td>57000.0</td>\n",
       "      <td>руб.</td>\n",
       "      <td>Длительный</td>\n",
       "      <td>60000.0</td>\n",
       "      <td>руб.</td>\n",
       "      <td>1</td>\n",
       "      <td>Косметический</td>\n",
       "      <td>Лоджия (1)</td>\n",
       "    </tr>\n",
       "  </tbody>\n",
       "</table>\n",
       "<p>23368 rows × 8 columns</p>\n",
       "</div>"
      ],
      "text/plain": [
       "       rent_price rent_currency   stay_time  deposite deposite_currency  \\\n",
       "0        500000.0          руб.  Длительный  500000.0              руб.   \n",
       "1        500000.0          руб.  Длительный  500000.0              руб.   \n",
       "2        500000.0          руб.  Длительный  500000.0              руб.   \n",
       "3        400000.0          руб.  Длительный  400000.0              руб.   \n",
       "4        225000.0          руб.  Длительный  225000.0              руб.   \n",
       "...           ...           ...         ...       ...               ...   \n",
       "23363     42000.0          руб.  Длительный   42000.0              руб.   \n",
       "23364     45000.0          руб.  Длительный   45000.0              руб.   \n",
       "23365     50000.0          руб.  Длительный   50000.0              руб.   \n",
       "23366     55000.0          руб.  Длительный   50000.0              руб.   \n",
       "23367     57000.0          руб.  Длительный   60000.0              руб.   \n",
       "\n",
       "       prepay_months     renovation                 balcony  \n",
       "0                  1   Дизайнерский  Балкон (0), Лоджия (0)  \n",
       "1                  1   Дизайнерский  Балкон (0), Лоджия (0)  \n",
       "2                  1     Евроремонт  Балкон (0), Лоджия (0)  \n",
       "3                  1     Евроремонт  Балкон (0), Лоджия (0)  \n",
       "4                  1     Евроремонт  Балкон (0), Лоджия (0)  \n",
       "...              ...            ...                     ...  \n",
       "23363              1     Евроремонт              Балкон (1)  \n",
       "23364              1     Евроремонт              Лоджия (1)  \n",
       "23365              1   Дизайнерский              Балкон (1)  \n",
       "23366              2     Евроремонт              Лоджия (1)  \n",
       "23367              1  Косметический              Лоджия (1)  \n",
       "\n",
       "[23368 rows x 8 columns]"
      ]
     },
     "execution_count": 493,
     "metadata": {},
     "output_type": "execute_result"
    }
   ],
   "source": [
    "data.iloc[:,8:16]"
   ]
  }
 ],
 "metadata": {
  "kernelspec": {
   "display_name": "Python 3 (ipykernel)",
   "language": "python",
   "name": "python3"
  },
  "language_info": {
   "codemirror_mode": {
    "name": "ipython",
    "version": 3
   },
   "file_extension": ".py",
   "mimetype": "text/x-python",
   "name": "python",
   "nbconvert_exporter": "python",
   "pygments_lexer": "ipython3",
   "version": "3.11.5"
  }
 },
 "nbformat": 4,
 "nbformat_minor": 5
}
