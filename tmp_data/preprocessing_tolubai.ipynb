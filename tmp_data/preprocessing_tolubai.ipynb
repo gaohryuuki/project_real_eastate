{
 "cells": [
  {
   "cell_type": "code",
   "execution_count": 1,
   "metadata": {},
   "outputs": [],
   "source": [
    "import pandas as pd\n",
    "import numpy as np"
   ]
  },
  {
   "cell_type": "code",
   "execution_count": 2,
   "metadata": {},
   "outputs": [],
   "source": [
    "#Reading CSV file\n",
    "df = pd.read_csv('~/Desktop/ds_bootcamp/week3/project/data/_data.csv')\n",
    "pd.set_option('display.max_columns', None)"
   ]
  },
  {
   "cell_type": "code",
   "execution_count": 3,
   "metadata": {},
   "outputs": [],
   "source": [
    "#Deleting Unnecessary column from data frame\n",
    "df = df.drop(['Unnamed: 0', 'Тип'], axis=1)"
   ]
  },
  {
   "cell_type": "code",
   "execution_count": 4,
   "metadata": {},
   "outputs": [],
   "source": [
    "#Renaming columns from Russian to English\n",
    "df = df.rename(columns={'ID  объявления': 'post_id', 'Количество комнат': 'number_of_rooms', \n",
    "                            'Метро': 'metro', 'Адрес': 'address', 'Площадь, м2': 'area_m2', 'Дом': 'apt_short_desc'})"
   ]
  },
  {
   "cell_type": "code",
   "execution_count": 5,
   "metadata": {},
   "outputs": [],
   "source": [
    "#Replacing nan values by the most frequent element \n",
    "df['number_of_rooms'] = df['number_of_rooms'].replace(to_replace=[None], value=df.loc[:, 'number_of_rooms'].mode()[0])"
   ]
  },
  {
   "cell_type": "code",
   "execution_count": 6,
   "metadata": {},
   "outputs": [],
   "source": [
    "#Creating 3 new features in data frame\n",
    "df.insert(2, 'isolated_apt', 0)\n",
    "df.insert(3, 'adjacent_apt', 0)\n",
    "df.insert(4, 'iso_adj_apt', 0)"
   ]
  },
  {
   "cell_type": "code",
   "execution_count": 7,
   "metadata": {},
   "outputs": [],
   "source": [
    "#Filling in 3 new columns by 1 if Apt has specific features related to columns \n",
    "splited_list_of_num_rooms = [i.split(', ') for i in df['number_of_rooms']]\n",
    "\n",
    "for i in range(len(splited_list_of_num_rooms)):\n",
    "    if splited_list_of_num_rooms[i][0].isdigit():\n",
    "        df.loc[i, 'number_of_rooms'] = splited_list_of_num_rooms[i][0]\n",
    "        \n",
    "        if len(splited_list_of_num_rooms[i]) > 1:\n",
    "            if splited_list_of_num_rooms[i][1] == 'Изолированная':\n",
    "                df.loc[i, 'isolated_apt'] = 1\n",
    "            \n",
    "            if splited_list_of_num_rooms[i][1] == 'Смежная':\n",
    "                df.loc[i, 'adjacent_apt'] = 1\n",
    "            \n",
    "            if splited_list_of_num_rooms[i][1] == 'Оба варианта':\n",
    "                df.loc[i, 'iso_adj_apt'] = 1"
   ]
  },
  {
   "cell_type": "code",
   "execution_count": 8,
   "metadata": {},
   "outputs": [],
   "source": [
    "#Replacing nan values by the most frequent element \n",
    "df['metro'] = df['metro'].replace(to_replace=[None], value=df.loc[:, 'metro'].mode()[0])"
   ]
  },
  {
   "cell_type": "code",
   "execution_count": 9,
   "metadata": {},
   "outputs": [],
   "source": [
    "#Adding new columns related to Metro feature\n",
    "df.insert(6, 'time_to_get_metro', 0)\n",
    "df.insert(7, 'by_car', 0)\n",
    "df.insert(8, 'by_walk', 0)"
   ]
  },
  {
   "cell_type": "code",
   "execution_count": 10,
   "metadata": {},
   "outputs": [
    {
     "data": {
      "text/plain": [
       "array(['пешком', 'машине'], dtype=object)"
      ]
     },
     "execution_count": 10,
     "metadata": {},
     "output_type": "execute_result"
    }
   ],
   "source": [
    "#Check uniqueness of transport type and create lists for future distribution\n",
    "splited_list_of_metro = [metro.split(' (') for metro in df['metro']]\n",
    "lst_type_of_transport_metro = []\n",
    "lst_time_to_get_metro = []\n",
    "lst_name_of_metro = []\n",
    "for i in splited_list_of_metro:\n",
    "    lst_type_of_transport_metro.append(i[1].split()[-1].rstrip(')'))\n",
    "    lst_time_to_get_metro.append(i[1].split()[0])\n",
    "    lst_name_of_metro.append(i[0])\n",
    "    \n",
    "unique_lst = pd.Series(lst_type_of_transport_metro).unique()\n",
    "unique_lst"
   ]
  },
  {
   "cell_type": "code",
   "execution_count": 11,
   "metadata": {},
   "outputs": [
    {
     "name": "stderr",
     "output_type": "stream",
     "text": [
      "/var/folders/db/69n9mbnx1hn26gcpf46v9d8h0000gn/T/ipykernel_78530/3928166692.py:5: FutureWarning: Setting an item of incompatible dtype is deprecated and will raise an error in a future version of pandas. Value '9' has dtype incompatible with int64, please explicitly cast to a compatible dtype first.\n",
      "  df.loc[i, 'time_to_get_metro'] = lst_time_to_get_metro[i]\n"
     ]
    }
   ],
   "source": [
    "#Filling in 2 new columns by 1 if Metro has specific features related to columns\n",
    "#And adding amount of min to get metro in 1 column\n",
    "for i in range(len(splited_list_of_metro)):\n",
    "    df.loc[i, 'metro'] = lst_name_of_metro[i]\n",
    "    df.loc[i, 'time_to_get_metro'] = lst_time_to_get_metro[i]\n",
    "    \n",
    "    if lst_type_of_transport_metro[i] == 'пешком':\n",
    "        df.loc[i, 'by_walk'] = 1\n",
    "    else:\n",
    "        df.loc[i, 'by_car'] = 1"
   ]
  }
 ],
 "metadata": {
  "kernelspec": {
   "display_name": "project_env",
   "language": "python",
   "name": "python3"
  },
  "language_info": {
   "codemirror_mode": {
    "name": "ipython",
    "version": 3
   },
   "file_extension": ".py",
   "mimetype": "text/x-python",
   "name": "python",
   "nbconvert_exporter": "python",
   "pygments_lexer": "ipython3",
   "version": "3.10.14"
  }
 },
 "nbformat": 4,
 "nbformat_minor": 2
}
