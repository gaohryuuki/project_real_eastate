{
 "cells": [
  {
   "cell_type": "markdown",
   "metadata": {},
   "source": [
    "# Preprocessing NaN values\n",
    "### for the 7 last columns\n",
    "    17  Можно с детьми/животными  17272 non-null  object\n",
    "        Create columns: \"pets_okay\" (and fill NA), \"kids_okay\" (and fill NA)\n",
    "    18  Дополнительно             23011 non-null  object\n",
    "        Create columns for potentially impactful factors: Мебель в комнатах (and count, then fill NA if needed or drop the column), Кондиционер (likewise), Посудомоечная машина (likewise)\n",
    "    15  Окна                      16755 non-null  object\n",
    "        Values: categorical, [На улицу и двор' 'Во двор' 'На улицу']. Create \"only_street_view\"\n",
    "    16  Санузел                   20696 non-null  object\n",
    "        Values: need to make them numerical and categorical (\"total_bathrooms\", \"only_one\"), then fill NaN.\n",
    "    22  Лифт                      17868 non-null  object\n",
    "        Create columns: \"has_elevator\", \"has_cargo_elevator\"\n",
    "    21  Высота потолков, м        11206 non-null  float64\n",
    "        Remove outliers, transform into meters, fill NaN, consider creating categorical (low, medium, high)\n",
    "    23  Мусоропровод              12846 non-null  object\n",
    "        Fill NA."
   ]
  },
  {
   "cell_type": "code",
   "execution_count": 3,
   "metadata": {},
   "outputs": [],
   "source": [
    "import pandas as pd\n",
    "\n",
    "import numpy as np\n",
    "from numpy import mean\n",
    "from numpy import std\n",
    "from numpy import ravel\n",
    "\n",
    "import seaborn as sns\n",
    "import matplotlib.pyplot as plt\n",
    "\n",
    "import scipy\n",
    "import joblib\n",
    "import re\n",
    "import glob\n",
    "import sklearn\n",
    "from math import sqrt\n",
    "from decimal import Decimal\n",
    "\n",
    "from sklearn.preprocessing import StandardScaler\n",
    "from sklearn.model_selection import train_test_split\n",
    "\n",
    "from sklearn.model_selection import cross_val_score\n",
    "\n",
    "from sklearn.model_selection import GridSearchCV\n",
    "\n",
    "from sklearn.metrics import make_scorer\n",
    "from sklearn.metrics import mean_squared_error\n",
    "# from sklearn.metrics import mean_absolute_percentage_error\n",
    "\n",
    "\n",
    "from geopy.exc import GeocoderTimedOut\n",
    "from geopy.distance import geodesic\n",
    "from geopy.geocoders import Nominatim\n",
    "\n",
    "from tqdm import tqdm\n",
    "\n",
    "# !pip install CurrencyConverter\n",
    "from currency_converter import CurrencyConverter"
   ]
  },
  {
   "cell_type": "code",
   "execution_count": 4,
   "metadata": {},
   "outputs": [],
   "source": [
    "df = pd.read_csv('../data/_data.csv')"
   ]
  },
  {
   "cell_type": "markdown",
   "metadata": {},
   "source": [
    "## Column \"Можно с детьми/животными\""
   ]
  },
  {
   "cell_type": "markdown",
   "metadata": {},
   "source": [
    "####  New column \"Можно с животными\""
   ]
  },
  {
   "cell_type": "code",
   "execution_count": 5,
   "metadata": {},
   "outputs": [
    {
     "name": "stdout",
     "output_type": "stream",
     "text": [
      "0        1.0\n",
      "1        0.0\n",
      "2        0.0\n",
      "3        1.0\n",
      "4        0.0\n",
      "        ... \n",
      "23363    0.0\n",
      "23364    0.0\n",
      "23365    0.0\n",
      "23366    0.0\n",
      "23367    1.0\n",
      "Name: pets_okay, Length: 23368, dtype: float64\n"
     ]
    }
   ],
   "source": [
    "df['pets_okay'] = df['Можно с детьми/животными'].apply(lambda x: 1 if isinstance(x, str) and 'Можно с животными' in x else (0 if isinstance(x, str) else np.nan))\n",
    "mode_pets_okay = df['pets_okay'].mode()[0]\n",
    "df['pets_okay'].fillna(mode_pets_okay, inplace=True)\n",
    "print(df['pets_okay'])"
   ]
  },
  {
   "cell_type": "code",
   "execution_count": 6,
   "metadata": {},
   "outputs": [
    {
     "name": "stdout",
     "output_type": "stream",
     "text": [
      "Percentage of each value in 'pets_okay':\n",
      "pets_okay\n",
      "0.0    69.453954\n",
      "1.0    30.546046\n",
      "Name: proportion, dtype: float64\n"
     ]
    }
   ],
   "source": [
    "percent_counts = df['pets_okay'].value_counts(normalize=True) * 100\n",
    "\n",
    "# Print the percentage counts\n",
    "print(\"Percentage of each value in 'pets_okay':\")\n",
    "print(percent_counts)"
   ]
  },
  {
   "cell_type": "code",
   "execution_count": null,
   "metadata": {},
   "outputs": [],
   "source": []
  },
  {
   "cell_type": "markdown",
   "metadata": {},
   "source": [
    "####  New column \"Можно с детьми\""
   ]
  },
  {
   "cell_type": "code",
   "execution_count": 7,
   "metadata": {},
   "outputs": [
    {
     "name": "stdout",
     "output_type": "stream",
     "text": [
      "0        1.0\n",
      "1        1.0\n",
      "2        1.0\n",
      "3        0.0\n",
      "4        1.0\n",
      "        ... \n",
      "23363    1.0\n",
      "23364    1.0\n",
      "23365    1.0\n",
      "23366    1.0\n",
      "23367    1.0\n",
      "Name: kids_okay, Length: 23368, dtype: float64\n"
     ]
    }
   ],
   "source": [
    "df['kids_okay'] = df['Можно с детьми/животными'].apply(lambda x: 1 if isinstance(x, str) and 'Можно с детьми' in x else (0 if isinstance(x, str) else np.nan))\n",
    "mode_kids_okay = df['kids_okay'].mode()[0] # 🚧\n",
    "df['kids_okay'].fillna(mode_kids_okay, inplace=True)\n",
    "print(df['kids_okay'])"
   ]
  },
  {
   "cell_type": "code",
   "execution_count": 8,
   "metadata": {},
   "outputs": [
    {
     "name": "stdout",
     "output_type": "stream",
     "text": [
      "Percentage of each value in 'kids_okay':\n",
      "kids_okay\n",
      "1.0    98.977234\n",
      "0.0     1.022766\n",
      "Name: proportion, dtype: float64\n"
     ]
    }
   ],
   "source": [
    "percent_counts = df['kids_okay'].value_counts(normalize=True) * 100\n",
    "\n",
    "# Print the percentage counts\n",
    "print(\"Percentage of each value in 'kids_okay':\")\n",
    "print(percent_counts)"
   ]
  },
  {
   "cell_type": "markdown",
   "metadata": {},
   "source": [
    "## Column \"Дополнительно\"\n",
    "#### Create columns for potentially impactful factors: Мебель в комнатах (and count, then fill NA if needed or drop the column), Кондиционер (likewise), Посудомоечная машина (likewise)"
   ]
  },
  {
   "cell_type": "code",
   "execution_count": 10,
   "metadata": {},
   "outputs": [],
   "source": [
    "def create_column(df, new_col_name, phrase):\n",
    "    df[new_col_name] = df['Дополнительно'].apply(\n",
    "        lambda x: 1 if isinstance(x, str) and phrase in x else (0 if isinstance(x, str) else np.nan)\n",
    "    )\n",
    "    # Fill NaN values with the mode\n",
    "    mode_value = df[new_col_name].mode()[0]\n",
    "    df[new_col_name].fillna(mode_value, inplace=True)\n",
    "    return df\n",
    "\n",
    "# Create new columns\n",
    "df = create_column(df, 'furniture_in_the_room', 'Мебель в комнатах')\n",
    "df = create_column(df, 'air_conditioner', 'Кондиционер')\n",
    "df = create_column(df, 'dishwashing', 'Посудомоечная машина')\n",
    "df = create_column(df, 'fridge', 'Холодильник')\n",
    "df = create_column(df, 'internet', 'Интернет')"
   ]
  },
  {
   "cell_type": "code",
   "execution_count": 13,
   "metadata": {},
   "outputs": [
    {
     "name": "stdout",
     "output_type": "stream",
     "text": [
      "Percentage of each value in 'furniture_in_the_room':\n",
      "furniture_in_the_room\n",
      "1.0    92.643786\n",
      "0.0     7.356214\n",
      "Name: proportion, dtype: float64\n",
      "Percentage of each value in 'air_conditioner':\n",
      "air_conditioner\n",
      "0.0    62.358781\n",
      "1.0    37.641219\n",
      "Name: proportion, dtype: float64\n",
      "Percentage of each value in 'dishwashing':\n",
      "dishwashing\n",
      "0.0    66.48836\n",
      "1.0    33.51164\n",
      "Name: proportion, dtype: float64\n",
      "Percentage of each value in 'fridge':\n",
      "fridge\n",
      "1.0    88.124786\n",
      "0.0    11.875214\n",
      "Name: proportion, dtype: float64\n",
      "Percentage of each value in 'internet':\n",
      "internet\n",
      "1.0    80.498973\n",
      "0.0    19.501027\n",
      "Name: proportion, dtype: float64\n",
      "       furniture_in_the_room  air_conditioner  dishwashing  fridge  internet\n",
      "0                        1.0              1.0          1.0     1.0       1.0\n",
      "1                        1.0              1.0          1.0     1.0       1.0\n",
      "2                        1.0              1.0          1.0     1.0       1.0\n",
      "3                        1.0              1.0          1.0     1.0       1.0\n",
      "4                        1.0              0.0          1.0     1.0       1.0\n",
      "...                      ...              ...          ...     ...       ...\n",
      "23363                    1.0              1.0          0.0     1.0       1.0\n",
      "23364                    1.0              0.0          0.0     1.0       0.0\n",
      "23365                    0.0              1.0          0.0     1.0       1.0\n",
      "23366                    1.0              1.0          1.0     1.0       0.0\n",
      "23367                    1.0              1.0          1.0     1.0       1.0\n",
      "\n",
      "[23368 rows x 5 columns]\n"
     ]
    }
   ],
   "source": [
    "# Checking descriptive stats for each main feature\n",
    "def calculate_percentage(df, column_name):\n",
    "    percent_counts = df[column_name].value_counts(normalize=True) * 100\n",
    "    print(f\"Percentage of each value in '{column_name}':\")\n",
    "    print(percent_counts)\n",
    "\n",
    "calculate_percentage(df, 'furniture_in_the_room')\n",
    "calculate_percentage(df, 'air_conditioner')\n",
    "calculate_percentage(df, 'dishwashing')\n",
    "# Doing reality check - these columns should largely have 1 \n",
    "calculate_percentage(df, 'fridge')\n",
    "calculate_percentage(df, 'internet')\n",
    "\n",
    "\n",
    "print(df[['furniture_in_the_room', 'air_conditioner', 'dishwashing', 'fridge', 'internet']])\n"
   ]
  },
  {
   "cell_type": "code",
   "execution_count": null,
   "metadata": {},
   "outputs": [],
   "source": []
  },
  {
   "cell_type": "markdown",
   "metadata": {},
   "source": [
    "## Column \"Окна\"\n",
    "#### Create column only_street_view with supposedly negative impact\n"
   ]
  },
  {
   "cell_type": "code",
   "execution_count": 14,
   "metadata": {},
   "outputs": [
    {
     "name": "stdout",
     "output_type": "stream",
     "text": [
      "Percentage of each value in 'only_street_view':\n",
      "only_street_view\n",
      "0.0    74.815988\n",
      "1.0    25.184012\n",
      "Name: proportion, dtype: float64\n"
     ]
    }
   ],
   "source": [
    "df['only_street_view'] = df['Окна'].apply(\n",
    "    lambda x: 1 if isinstance(x, str) and 'На улицу' in x else (0 if isinstance(x, str) else np.nan)\n",
    ")\n",
    "mode_only_street_view = df['only_street_view'].mode()[0]\n",
    "df['only_street_view'].fillna(mode_only_street_view, inplace=True)\n",
    "percent_counts = df['only_street_view'].value_counts(normalize=True) * 100\n",
    "\n",
    "print(\"Percentage of each value in 'only_street_view':\")\n",
    "print(percent_counts)\n"
   ]
  },
  {
   "cell_type": "markdown",
   "metadata": {},
   "source": []
  },
  {
   "cell_type": "markdown",
   "metadata": {},
   "source": [
    "## Column \"Высота потолков\"\n",
    "#### Values: transform into meters, ❗️ Remove outliers, fill NaN, consider creating ❗️ categorical levels (low, medium, high)\n"
   ]
  },
  {
   "cell_type": "markdown",
   "metadata": {},
   "source": [
    "## Column \"Санузел\"\n",
    "#### Values: need to make them numerical and categorical (\"total number\", \"only совмещенный\"), then fill NaN.\n"
   ]
  },
  {
   "cell_type": "markdown",
   "metadata": {},
   "source": [
    "## Column \"Лифт\"\n",
    "#### Create columns: \"has_elevator\", \"has_cargo_elevator\"\n"
   ]
  },
  {
   "cell_type": "markdown",
   "metadata": {},
   "source": [
    "## Column \"Мусоропровод\"\n",
    "\n"
   ]
  },
  {
   "cell_type": "markdown",
   "metadata": {},
   "source": []
  }
 ],
 "metadata": {
  "kernelspec": {
   "display_name": "base",
   "language": "python",
   "name": "python3"
  },
  "language_info": {
   "codemirror_mode": {
    "name": "ipython",
    "version": 3
   },
   "file_extension": ".py",
   "mimetype": "text/x-python",
   "name": "python",
   "nbconvert_exporter": "python",
   "pygments_lexer": "ipython3",
   "version": "3.11.7"
  }
 },
 "nbformat": 4,
 "nbformat_minor": 2
}
