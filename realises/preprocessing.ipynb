{
 "cells": [
  {
   "cell_type": "code",
   "execution_count": 6,
   "metadata": {},
   "outputs": [],
   "source": [
    "import pandas as pd\n",
    "import numpy as np\n",
    "import re # используется для кодирования Балконов, там числа со строками и знаками вперемешку"
   ]
  },
  {
   "cell_type": "code",
   "execution_count": 7,
   "metadata": {},
   "outputs": [],
   "source": [
    "#Reading CSV file\n",
    "df = pd.read_csv('../data/_data.csv')\n",
    "pd.set_option('display.max_columns', None)"
   ]
  },
  {
   "cell_type": "code",
   "execution_count": 8,
   "metadata": {},
   "outputs": [],
   "source": [
    "#Deleting Unnecessary columns from data frame\n",
    "df = df.drop(['Unnamed: 0', 'Тип'], axis=1)\n",
    "df = df.drop(['Парковка'], axis=1) # Убераем парковку\n",
    "df = df.drop(['Телефоны'], axis=1) # Убераем телефоны\n",
    "df = df.drop(['Площадь комнат, м2'], axis=1) # Убераем площади комнат"
   ]
  },
  {
   "cell_type": "code",
   "execution_count": 9,
   "metadata": {},
   "outputs": [],
   "source": [
    "#Renaming columns from Russian to English\n",
    "df = df.rename(columns={'ID  объявления': 'post_id', 'Количество комнат': 'number_of_rooms', \n",
    "                            'Метро': 'metro', 'Адрес': 'address', 'Площадь, м2': 'area_m2', 'Дом': 'apt_short_desc'})"
   ]
  },
  {
   "cell_type": "code",
   "execution_count": 10,
   "metadata": {},
   "outputs": [],
   "source": [
    "#Replacing nan values by the most frequent element \n",
    "df['number_of_rooms'] = df['number_of_rooms'].replace(to_replace=[None], value=df.loc[:, 'number_of_rooms'].mode()[0])"
   ]
  },
  {
   "cell_type": "code",
   "execution_count": 11,
   "metadata": {},
   "outputs": [],
   "source": [
    "#Creating 3 new features in data frame\n",
    "df.insert(2, 'isolated_apt', 0)\n",
    "df.insert(3, 'adjacent_apt', 0)\n",
    "df.insert(4, 'iso_adj_apt', 0)"
   ]
  },
  {
   "cell_type": "code",
   "execution_count": 12,
   "metadata": {},
   "outputs": [],
   "source": [
    "#Filling in 3 new columns by 1 if Apt has specific features related to columns \n",
    "splited_list_of_num_rooms = [i.split(', ') for i in df['number_of_rooms']]\n",
    "\n",
    "for i in range(len(splited_list_of_num_rooms)):\n",
    "    if splited_list_of_num_rooms[i][0].isdigit():\n",
    "        df.loc[i, 'number_of_rooms'] = splited_list_of_num_rooms[i][0]\n",
    "        \n",
    "        if len(splited_list_of_num_rooms[i]) > 1:\n",
    "            if splited_list_of_num_rooms[i][1] == 'Изолированная':\n",
    "                df.loc[i, 'isolated_apt'] = 1\n",
    "            \n",
    "            if splited_list_of_num_rooms[i][1] == 'Смежная':\n",
    "                df.loc[i, 'adjacent_apt'] = 1\n",
    "            \n",
    "            if splited_list_of_num_rooms[i][1] == 'Оба варианта':\n",
    "                df.loc[i, 'iso_adj_apt'] = 1"
   ]
  },
  {
   "cell_type": "code",
   "execution_count": 13,
   "metadata": {},
   "outputs": [],
   "source": [
    "#Replacing nan values by the most frequent element \n",
    "df['metro'] = df['metro'].replace(to_replace=[None], value=df.loc[:, 'metro'].mode()[0])"
   ]
  },
  {
   "cell_type": "code",
   "execution_count": 14,
   "metadata": {},
   "outputs": [],
   "source": [
    "#Adding new columns related to Metro feature\n",
    "df.insert(6, 'time_to_get_metro', 0)\n",
    "df.insert(7, 'by_car', 0)\n",
    "df.insert(8, 'by_walk', 0)"
   ]
  },
  {
   "cell_type": "code",
   "execution_count": 15,
   "metadata": {},
   "outputs": [
    {
     "data": {
      "text/plain": [
       "array(['пешком', 'машине'], dtype=object)"
      ]
     },
     "execution_count": 15,
     "metadata": {},
     "output_type": "execute_result"
    }
   ],
   "source": [
    "#Check uniqueness of transport type and create lists for future distribution\n",
    "splited_list_of_metro = [metro.split(' (') for metro in df['metro']]\n",
    "lst_type_of_transport_metro = []\n",
    "lst_time_to_get_metro = []\n",
    "lst_name_of_metro = []\n",
    "for i in splited_list_of_metro:\n",
    "    lst_type_of_transport_metro.append(i[1].split()[-1].rstrip(')'))\n",
    "    lst_time_to_get_metro.append(i[1].split()[0])\n",
    "    lst_name_of_metro.append(i[0])\n",
    "    \n",
    "unique_lst = pd.Series(lst_type_of_transport_metro).unique()\n",
    "unique_lst"
   ]
  },
  {
   "cell_type": "code",
   "execution_count": 16,
   "metadata": {},
   "outputs": [
    {
     "name": "stderr",
     "output_type": "stream",
     "text": [
      "/tmp/ipykernel_1583483/3928166692.py:5: FutureWarning: Setting an item of incompatible dtype is deprecated and will raise an error in a future version of pandas. Value '9' has dtype incompatible with int64, please explicitly cast to a compatible dtype first.\n",
      "  df.loc[i, 'time_to_get_metro'] = lst_time_to_get_metro[i]\n"
     ]
    }
   ],
   "source": [
    "#Filling in 2 new columns by 1 if Metro has specific features related to columns\n",
    "#And adding amount of min to get metro in 1 column\n",
    "for i in range(len(splited_list_of_metro)):\n",
    "    df.loc[i, 'metro'] = lst_name_of_metro[i]\n",
    "    df.loc[i, 'time_to_get_metro'] = lst_time_to_get_metro[i]\n",
    "    \n",
    "    if lst_type_of_transport_metro[i] == 'пешком':\n",
    "        df.loc[i, 'by_walk'] = 1\n",
    "    else:\n",
    "        df.loc[i, 'by_car'] = 1"
   ]
  },
  {
   "cell_type": "markdown",
   "metadata": {},
   "source": [
    "Bul's part"
   ]
  },
  {
   "cell_type": "code",
   "execution_count": 17,
   "metadata": {},
   "outputs": [],
   "source": [
    "temp1=df['Цена']\n",
    "rent_price_curr = temp1.apply(lambda x:x.split('/')[0].split())\n",
    "rent_price = rent_price_curr.apply(lambda x:x[0])\n",
    "# Цена аренды"
   ]
  },
  {
   "cell_type": "code",
   "execution_count": 18,
   "metadata": {},
   "outputs": [],
   "source": [
    "currency = rent_price_curr.apply(lambda x:x[1]) # Валюта аренды"
   ]
  },
  {
   "cell_type": "code",
   "execution_count": 19,
   "metadata": {},
   "outputs": [],
   "source": [
    "s3=temp1.apply(lambda x:x.split('Срок аренды - '))\n",
    "stay_time=s3.apply(lambda x:x[1].split(',')[0]) # Виды сроков"
   ]
  },
  {
   "cell_type": "code",
   "execution_count": 20,
   "metadata": {},
   "outputs": [],
   "source": [
    "deposite = temp1.apply(lambda x:x.split('Залог - '))\n",
    "test1 = deposite.apply(lambda x:len(x))\n",
    "bool_series1 = test1==2\n",
    "\n",
    "deposite[bool_series1] = deposite[bool_series1].apply(lambda x:x[1].split(',')[0].split(' '))\n",
    "deposite[~bool_series1] = '00'\n",
    "\n",
    "deposite_value = deposite.apply(lambda x:x[0]) # Все залоги, если нету = то 0 строкой\n",
    "deposite_currency = deposite.apply(lambda x:x[1]) # Все валюты, если нету = то 0 строкой"
   ]
  },
  {
   "cell_type": "code",
   "execution_count": 21,
   "metadata": {},
   "outputs": [],
   "source": [
    "pre_pay = temp1.apply(lambda x:x.split('Предоплата ')[-1])\n",
    "\n",
    "pre_pay_months = pre_pay.apply(lambda x:x.split(' ')[0]) \n",
    "\n",
    "pre_pay_bool = pre_pay.apply(lambda x:x.split(' ')[-1])\n",
    "pre_pay_bool[(pre_pay_bool=='Длительный')|(pre_pay_bool=='месяцев')]='нету'\n",
    "# Предоплата либо \"мес\", либо нету - заменил на \"нету\".\n",
    "\n",
    "pre_pay_months = pre_pay_months.astype(float)\n",
    "pre_pay_months[pre_pay_months>12]=0\n",
    "# Количество месяцев"
   ]
  },
  {
   "cell_type": "code",
   "execution_count": 22,
   "metadata": {},
   "outputs": [],
   "source": [
    "df = df.drop(['Цена'], axis=1) # Убераем цену"
   ]
  },
  {
   "cell_type": "code",
   "execution_count": 23,
   "metadata": {},
   "outputs": [],
   "source": [
    "df.insert(12,'rent_price',rent_price)\n",
    "df.insert(13,'rent_currency',currency)\n",
    "df.insert(14,'stay_time',stay_time)\n",
    "df.insert(15,'deposite',deposite_value)\n",
    "df.insert(16,'deposite_currency',deposite_currency)\n",
    "df.insert(17,'is_prepay',pre_pay_bool)\n",
    "df.insert(18,'prepay_months',pre_pay_months)"
   ]
  },
  {
   "cell_type": "code",
   "execution_count": 24,
   "metadata": {},
   "outputs": [],
   "source": [
    "df = df.drop(['Описание'], axis=1) # Убераем описание"
   ]
  },
  {
   "cell_type": "code",
   "execution_count": 25,
   "metadata": {},
   "outputs": [],
   "source": [
    "df['rent_price']=df['rent_price'].astype(float)\n",
    "df['deposite']=df['deposite'].astype(float)\n",
    "# Переводит числовые во float"
   ]
  },
  {
   "cell_type": "code",
   "execution_count": 26,
   "metadata": {},
   "outputs": [],
   "source": [
    "df = df.drop(['is_prepay'], axis=1) # Убераем логический признак\n",
    "df['prepay_months'] = df['prepay_months'].astype(int) # Теперь если 0 - то нету Предоплаты, или количество месяцев предоплаты"
   ]
  },
  {
   "cell_type": "code",
   "execution_count": 27,
   "metadata": {},
   "outputs": [],
   "source": [
    "df = df.rename(columns={'Ремонт': 'renovation'}) # Переименовываем колонку"
   ]
  },
  {
   "cell_type": "code",
   "execution_count": 28,
   "metadata": {},
   "outputs": [],
   "source": [
    "df['renovation']=df['renovation'].fillna('Нету') # Пропуски = \"Нету\""
   ]
  },
  {
   "cell_type": "code",
   "execution_count": 29,
   "metadata": {},
   "outputs": [],
   "source": [
    "df = df.rename(columns={'Балкон': 'balcony'}) # Переименовываем колонку"
   ]
  },
  {
   "cell_type": "code",
   "execution_count": 30,
   "metadata": {},
   "outputs": [],
   "source": [
    "df['balcony']=df['balcony'].fillna('Балкон (0), Лоджия (0)') # Пропуски = 'Балкон (0), Лоджия (0)'"
   ]
  },
  {
   "cell_type": "code",
   "execution_count": 31,
   "metadata": {
    "tags": []
   },
   "outputs": [],
   "source": [
    "# Здесь начинается вторая часть Второго релиза = конвертировать цены в Доллары, кодировать строки"
   ]
  },
  {
   "cell_type": "code",
   "execution_count": 32,
   "metadata": {
    "tags": []
   },
   "outputs": [],
   "source": [
    "df.loc[df['renovation'] == 'Нету', 'renovation'] = 'Без ремонта' # Повторяющиеся значения \"Нету\" и \"Без ремонта\" = теперь везде \"Без ремонта\""
   ]
  },
  {
   "cell_type": "code",
   "execution_count": 33,
   "metadata": {
    "tags": []
   },
   "outputs": [],
   "source": [
    "renovation_mapping = {\n",
    "    'Евроремонт': 3,\n",
    "    'Дизайнерский': 4,\n",
    "    'Косметический': 2,\n",
    "    'Без ремонта':1,\n",
    "}\n",
    "\n",
    "df['renovation']=df['renovation'].map(renovation_mapping) # Сделали кодировку, где 1 = самый ужасный ремонт, 4 = самый лучший"
   ]
  },
  {
   "cell_type": "code",
   "execution_count": 34,
   "metadata": {
    "tags": []
   },
   "outputs": [],
   "source": [
    "convert_to_usd = {'руб.':0.011, '$':1, '€':1.07} # Словарь множителей от текущей валюты в Доллары\n",
    "df['rent_price']=df.apply(lambda row: row['rent_price'] * convert_to_usd[row['rent_currency']], axis=1) # Переводим все цены в Доллары\n",
    "df = df.drop(['rent_currency'], axis=1) # Убераем колонку валют"
   ]
  },
  {
   "cell_type": "code",
   "execution_count": 35,
   "metadata": {
    "tags": []
   },
   "outputs": [],
   "source": [
    "convert_to_usd_depo = {'руб.':0.011, '$':1, '€':1.07, '0':0.0} # Словарь уже для депозитов, там их кое-где нету валюты = 0\n",
    "df['deposite'] = df.apply(lambda row: row['deposite'] * convert_to_usd_depo[row['deposite_currency']], axis=1) # Переводим все депозиты в Доллары\n",
    "df = df.drop(['deposite_currency'], axis=1) # Убераем колонку валют"
   ]
  },
  {
   "cell_type": "code",
   "execution_count": 36,
   "metadata": {
    "tags": []
   },
   "outputs": [],
   "source": [
    "df['deposite']=df.apply(lambda row: row['deposite']/row['rent_price'], axis=1) # Переводим их в процентное соотношение от цены за аренду"
   ]
  },
  {
   "cell_type": "code",
   "execution_count": 37,
   "metadata": {
    "tags": []
   },
   "outputs": [],
   "source": [
    "stay_time_mapping = {\n",
    "    'Длительный': 2,\n",
    "    'На несколько месяцев': 1\n",
    "}\n",
    "\n",
    "df['stay_time']=df['stay_time'].map(stay_time_mapping) # Сделали кодировку, где 1 = на несколько месяцев, 2 = длительный срок"
   ]
  },
  {
   "cell_type": "code",
   "execution_count": 38,
   "metadata": {
    "tags": []
   },
   "outputs": [],
   "source": [
    "def extract_and_sum_numbers(s):\n",
    "    numbers = re.findall(r'\\d+', s)\n",
    "    return sum(map(int, numbers))\n",
    "\n",
    "df['balcony']=df['balcony'].apply(extract_and_sum_numbers)\n",
    "# Используя regular expression я нахожу все числа и суммирую их\n",
    "# В итоге Лоджия и Балкон по весу = у меня равны, а значения = это их кол-во"
   ]
  },
  {
   "cell_type": "code",
   "execution_count": 39,
   "metadata": {
    "tags": []
   },
   "outputs": [],
   "source": [
    "df = df.rename(columns={'balcony': 'balcony_count'}) "
   ]
  },
  {
   "cell_type": "code",
   "execution_count": 40,
   "metadata": {
    "tags": []
   },
   "outputs": [
    {
     "data": {
      "text/plain": [
       "rent_price       float64\n",
       "stay_time          int64\n",
       "deposite         float64\n",
       "prepay_months      int64\n",
       "renovation         int64\n",
       "balcony_count      int64\n",
       "dtype: object"
      ]
     },
     "execution_count": 40,
     "metadata": {},
     "output_type": "execute_result"
    }
   ],
   "source": [
    "df.iloc[:,12:18].dtypes # Все мои значения"
   ]
  },
  {
   "cell_type": "markdown",
   "metadata": {},
   "source": [
    "Nastya's part"
   ]
  },
  {
   "cell_type": "code",
   "execution_count": 41,
   "metadata": {},
   "outputs": [
    {
     "name": "stdout",
     "output_type": "stream",
     "text": [
      "0        1.0\n",
      "1        0.0\n",
      "2        0.0\n",
      "3        1.0\n",
      "4        0.0\n",
      "        ... \n",
      "23363    0.0\n",
      "23364    0.0\n",
      "23365    0.0\n",
      "23366    0.0\n",
      "23367    1.0\n",
      "Name: pets_okay, Length: 23368, dtype: float64\n"
     ]
    },
    {
     "name": "stderr",
     "output_type": "stream",
     "text": [
      "/tmp/ipykernel_1583483/2283144236.py:3: FutureWarning: A value is trying to be set on a copy of a DataFrame or Series through chained assignment using an inplace method.\n",
      "The behavior will change in pandas 3.0. This inplace method will never work because the intermediate object on which we are setting values always behaves as a copy.\n",
      "\n",
      "For example, when doing 'df[col].method(value, inplace=True)', try using 'df.method({col: value}, inplace=True)' or df[col] = df[col].method(value) instead, to perform the operation inplace on the original object.\n",
      "\n",
      "\n",
      "  df['pets_okay'].fillna(mode_pets_okay, inplace=True)\n"
     ]
    }
   ],
   "source": [
    "df['pets_okay'] = df['Можно с детьми/животными'].apply(lambda x: 1 if isinstance(x, str) and 'Можно с животными' in x else (0 if isinstance(x, str) else np.nan))\n",
    "mode_pets_okay = df['pets_okay'].mode()[0]\n",
    "df['pets_okay'].fillna(mode_pets_okay, inplace=True)\n",
    "print(df['pets_okay'])"
   ]
  },
  {
   "cell_type": "code",
   "execution_count": 42,
   "metadata": {},
   "outputs": [
    {
     "name": "stdout",
     "output_type": "stream",
     "text": [
      "Percentage of each value in 'pets_okay':\n",
      "pets_okay\n",
      "0.0    69.453954\n",
      "1.0    30.546046\n",
      "Name: proportion, dtype: float64\n"
     ]
    }
   ],
   "source": [
    "percent_counts = df['pets_okay'].value_counts(normalize=True) * 100\n",
    "# Print the percentage counts\n",
    "print(\"Percentage of each value in 'pets_okay':\")\n",
    "print(percent_counts)"
   ]
  },
  {
   "cell_type": "code",
   "execution_count": 43,
   "metadata": {},
   "outputs": [
    {
     "name": "stdout",
     "output_type": "stream",
     "text": [
      "0        1.0\n",
      "1        1.0\n",
      "2        1.0\n",
      "3        0.0\n",
      "4        1.0\n",
      "        ... \n",
      "23363    1.0\n",
      "23364    1.0\n",
      "23365    1.0\n",
      "23366    1.0\n",
      "23367    1.0\n",
      "Name: kids_okay, Length: 23368, dtype: float64\n"
     ]
    },
    {
     "name": "stderr",
     "output_type": "stream",
     "text": [
      "/tmp/ipykernel_1583483/1037702761.py:3: FutureWarning: A value is trying to be set on a copy of a DataFrame or Series through chained assignment using an inplace method.\n",
      "The behavior will change in pandas 3.0. This inplace method will never work because the intermediate object on which we are setting values always behaves as a copy.\n",
      "\n",
      "For example, when doing 'df[col].method(value, inplace=True)', try using 'df.method({col: value}, inplace=True)' or df[col] = df[col].method(value) instead, to perform the operation inplace on the original object.\n",
      "\n",
      "\n",
      "  df['kids_okay'].fillna(mode_kids_okay, inplace=True)\n"
     ]
    }
   ],
   "source": [
    "df['kids_okay'] = df['Можно с детьми/животными'].apply(lambda x: 1 if isinstance(x, str) and 'Можно с детьми' in x else (0 if isinstance(x, str) else np.nan))\n",
    "mode_kids_okay = df['kids_okay'].mode()[0] # 🚧\n",
    "df['kids_okay'].fillna(mode_kids_okay, inplace=True)\n",
    "print(df['kids_okay'])"
   ]
  },
  {
   "cell_type": "code",
   "execution_count": 44,
   "metadata": {},
   "outputs": [
    {
     "name": "stdout",
     "output_type": "stream",
     "text": [
      "Percentage of each value in 'kids_okay':\n",
      "kids_okay\n",
      "1.0    98.977234\n",
      "0.0     1.022766\n",
      "Name: proportion, dtype: float64\n"
     ]
    }
   ],
   "source": [
    "percent_counts = df['kids_okay'].value_counts(normalize=True) * 100\n",
    "\n",
    "# Print the percentage counts\n",
    "print(\"Percentage of each value in 'kids_okay':\")\n",
    "print(percent_counts)"
   ]
  },
  {
   "cell_type": "code",
   "execution_count": 45,
   "metadata": {},
   "outputs": [
    {
     "name": "stderr",
     "output_type": "stream",
     "text": [
      "/tmp/ipykernel_1583483/390896744.py:7: FutureWarning: A value is trying to be set on a copy of a DataFrame or Series through chained assignment using an inplace method.\n",
      "The behavior will change in pandas 3.0. This inplace method will never work because the intermediate object on which we are setting values always behaves as a copy.\n",
      "\n",
      "For example, when doing 'df[col].method(value, inplace=True)', try using 'df.method({col: value}, inplace=True)' or df[col] = df[col].method(value) instead, to perform the operation inplace on the original object.\n",
      "\n",
      "\n",
      "  df[new_col_name].fillna(mode_value, inplace=True)\n",
      "/tmp/ipykernel_1583483/390896744.py:7: FutureWarning: A value is trying to be set on a copy of a DataFrame or Series through chained assignment using an inplace method.\n",
      "The behavior will change in pandas 3.0. This inplace method will never work because the intermediate object on which we are setting values always behaves as a copy.\n",
      "\n",
      "For example, when doing 'df[col].method(value, inplace=True)', try using 'df.method({col: value}, inplace=True)' or df[col] = df[col].method(value) instead, to perform the operation inplace on the original object.\n",
      "\n",
      "\n",
      "  df[new_col_name].fillna(mode_value, inplace=True)\n",
      "/tmp/ipykernel_1583483/390896744.py:7: FutureWarning: A value is trying to be set on a copy of a DataFrame or Series through chained assignment using an inplace method.\n",
      "The behavior will change in pandas 3.0. This inplace method will never work because the intermediate object on which we are setting values always behaves as a copy.\n",
      "\n",
      "For example, when doing 'df[col].method(value, inplace=True)', try using 'df.method({col: value}, inplace=True)' or df[col] = df[col].method(value) instead, to perform the operation inplace on the original object.\n",
      "\n",
      "\n",
      "  df[new_col_name].fillna(mode_value, inplace=True)\n",
      "/tmp/ipykernel_1583483/390896744.py:7: FutureWarning: A value is trying to be set on a copy of a DataFrame or Series through chained assignment using an inplace method.\n",
      "The behavior will change in pandas 3.0. This inplace method will never work because the intermediate object on which we are setting values always behaves as a copy.\n",
      "\n",
      "For example, when doing 'df[col].method(value, inplace=True)', try using 'df.method({col: value}, inplace=True)' or df[col] = df[col].method(value) instead, to perform the operation inplace on the original object.\n",
      "\n",
      "\n",
      "  df[new_col_name].fillna(mode_value, inplace=True)\n",
      "/tmp/ipykernel_1583483/390896744.py:7: FutureWarning: A value is trying to be set on a copy of a DataFrame or Series through chained assignment using an inplace method.\n",
      "The behavior will change in pandas 3.0. This inplace method will never work because the intermediate object on which we are setting values always behaves as a copy.\n",
      "\n",
      "For example, when doing 'df[col].method(value, inplace=True)', try using 'df.method({col: value}, inplace=True)' or df[col] = df[col].method(value) instead, to perform the operation inplace on the original object.\n",
      "\n",
      "\n",
      "  df[new_col_name].fillna(mode_value, inplace=True)\n"
     ]
    }
   ],
   "source": [
    "def create_column(df, new_col_name, phrase):\n",
    "    df[new_col_name] = df['Дополнительно'].apply(\n",
    "        lambda x: 1 if isinstance(x, str) and phrase in x else (0 if isinstance(x, str) else np.nan)\n",
    "    )\n",
    "    # Fill NaN values with the mode\n",
    "    mode_value = df[new_col_name].mode()[0]\n",
    "    df[new_col_name].fillna(mode_value, inplace=True)\n",
    "    return df\n",
    "\n",
    "# Create new columns\n",
    "df = create_column(df, 'furniture_in_the_room', 'Мебель в комнатах')\n",
    "df = create_column(df, 'air_conditioner', 'Кондиционер')\n",
    "df = create_column(df, 'dishwashing', 'Посудомоечная машина')\n",
    "df = create_column(df, 'fridge', 'Холодильник')\n",
    "df = create_column(df, 'internet', 'Интернет')"
   ]
  },
  {
   "cell_type": "code",
   "execution_count": 46,
   "metadata": {},
   "outputs": [
    {
     "name": "stdout",
     "output_type": "stream",
     "text": [
      "Percentage of each value in 'furniture_in_the_room':\n",
      "furniture_in_the_room\n",
      "1.0    92.643786\n",
      "0.0     7.356214\n",
      "Name: proportion, dtype: float64\n",
      "Percentage of each value in 'air_conditioner':\n",
      "air_conditioner\n",
      "0.0    62.358781\n",
      "1.0    37.641219\n",
      "Name: proportion, dtype: float64\n",
      "Percentage of each value in 'dishwashing':\n",
      "dishwashing\n",
      "0.0    66.48836\n",
      "1.0    33.51164\n",
      "Name: proportion, dtype: float64\n",
      "Percentage of each value in 'fridge':\n",
      "fridge\n",
      "1.0    88.124786\n",
      "0.0    11.875214\n",
      "Name: proportion, dtype: float64\n",
      "Percentage of each value in 'internet':\n",
      "internet\n",
      "1.0    80.498973\n",
      "0.0    19.501027\n",
      "Name: proportion, dtype: float64\n",
      "       furniture_in_the_room  air_conditioner  dishwashing  fridge  internet\n",
      "0                        1.0              1.0          1.0     1.0       1.0\n",
      "1                        1.0              1.0          1.0     1.0       1.0\n",
      "2                        1.0              1.0          1.0     1.0       1.0\n",
      "3                        1.0              1.0          1.0     1.0       1.0\n",
      "4                        1.0              0.0          1.0     1.0       1.0\n",
      "...                      ...              ...          ...     ...       ...\n",
      "23363                    1.0              1.0          0.0     1.0       1.0\n",
      "23364                    1.0              0.0          0.0     1.0       0.0\n",
      "23365                    0.0              1.0          0.0     1.0       1.0\n",
      "23366                    1.0              1.0          1.0     1.0       0.0\n",
      "23367                    1.0              1.0          1.0     1.0       1.0\n",
      "\n",
      "[23368 rows x 5 columns]\n"
     ]
    }
   ],
   "source": [
    "# Checking descriptive stats for each main feature\n",
    "def calculate_percentage(df, column_name):\n",
    "    percent_counts = df[column_name].value_counts(normalize=True) * 100\n",
    "    print(f\"Percentage of each value in '{column_name}':\")\n",
    "    print(percent_counts)\n",
    "\n",
    "calculate_percentage(df, 'furniture_in_the_room')\n",
    "calculate_percentage(df, 'air_conditioner')\n",
    "calculate_percentage(df, 'dishwashing')\n",
    "# Doing reality check - these columns should largely have 1 \n",
    "calculate_percentage(df, 'fridge')\n",
    "calculate_percentage(df, 'internet')\n",
    "\n",
    "\n",
    "print(df[['furniture_in_the_room', 'air_conditioner', 'dishwashing', 'fridge', 'internet']])"
   ]
  },
  {
   "cell_type": "code",
   "execution_count": 47,
   "metadata": {},
   "outputs": [
    {
     "name": "stdout",
     "output_type": "stream",
     "text": [
      "Percentage of each value in 'only_street_view':\n",
      "only_street_view\n",
      "0.0    74.815988\n",
      "1.0    25.184012\n",
      "Name: proportion, dtype: float64\n"
     ]
    },
    {
     "name": "stderr",
     "output_type": "stream",
     "text": [
      "/tmp/ipykernel_1583483/3602654623.py:5: FutureWarning: A value is trying to be set on a copy of a DataFrame or Series through chained assignment using an inplace method.\n",
      "The behavior will change in pandas 3.0. This inplace method will never work because the intermediate object on which we are setting values always behaves as a copy.\n",
      "\n",
      "For example, when doing 'df[col].method(value, inplace=True)', try using 'df.method({col: value}, inplace=True)' or df[col] = df[col].method(value) instead, to perform the operation inplace on the original object.\n",
      "\n",
      "\n",
      "  df['only_street_view'].fillna(mode_only_street_view, inplace=True)\n"
     ]
    }
   ],
   "source": [
    "df['only_street_view'] = df['Окна'].apply(\n",
    "    lambda x: 1 if isinstance(x, str) and 'На улицу' in x else (0 if isinstance(x, str) else np.nan)\n",
    ")\n",
    "mode_only_street_view = df['only_street_view'].mode()[0]\n",
    "df['only_street_view'].fillna(mode_only_street_view, inplace=True)\n",
    "percent_counts = df['only_street_view'].value_counts(normalize=True) * 100\n",
    "\n",
    "print(\"Percentage of each value in 'only_street_view':\")\n",
    "print(percent_counts)"
   ]
  },
  {
   "cell_type": "code",
   "execution_count": 48,
   "metadata": {},
   "outputs": [],
   "source": [
    "#Getting rid of columns \n",
    "df = df.drop(['Окна'], axis=1)\n",
    "df = df.drop(['Можно с детьми/животными'], axis=1)\n",
    "df = df.drop(['Дополнительно'], axis=1)\n",
    "df = df.drop(['Название ЖК'], axis=1)\n",
    "df = df.drop(['Серия дома'], axis=1)\n",
    "df = df.drop(['Ссылка на объявление'], axis=1)\n"
   ]
  },
  {
   "cell_type": "code",
   "execution_count": 49,
   "metadata": {
    "tags": []
   },
   "outputs": [],
   "source": [
    "df.to_csv('../data/data.csv')"
   ]
  }
 ],
 "metadata": {
  "kernelspec": {
   "display_name": "Python 3 (ipykernel)",
   "language": "python",
   "name": "python3"
  },
  "language_info": {
   "codemirror_mode": {
    "name": "ipython",
    "version": 3
   },
   "file_extension": ".py",
   "mimetype": "text/x-python",
   "name": "python",
   "nbconvert_exporter": "python",
   "pygments_lexer": "ipython3",
   "version": "3.10.12"
  }
 },
 "nbformat": 4,
 "nbformat_minor": 4
}
